{
  "nbformat": 4,
  "nbformat_minor": 0,
  "metadata": {
    "colab": {
      "name": "ASSIGNMENT-06",
      "provenance": []
    },
    "kernelspec": {
      "name": "python3",
      "display_name": "Python 3"
    },
    "language_info": {
      "name": "python"
    }
  },
  "cells": [
    {
      "cell_type": "code",
      "metadata": {
        "id": "COy0WRSBcZ17"
      },
      "source": [
        "import math\n",
        "import random\n",
        "import matplotlib.pyplot as plt\n",
        "import pandas as pd\n",
        "import numpy as np\n",
        "import seaborn as sns\n",
        "from scipy import stats\n",
        "from sklearn.preprocessing import minmax_scale\n",
        "from sklearn.model_selection import train_test_split\n",
        "from random import shuffle"
      ],
      "execution_count": 15,
      "outputs": []
    },
    {
      "cell_type": "code",
      "metadata": {
        "id": "AB3vhzNRd2BS"
      },
      "source": [
        "def error(d,m,c):\n",
        "  sum = 0\n",
        "  for i in range(len(d)):\n",
        "    sum += math.pow(d[i][1]-m*d[i][0]-c,2)\n",
        "  return (1/2)*(1/len(d))*sum"
      ],
      "execution_count": 16,
      "outputs": []
    },
    {
      "cell_type": "code",
      "metadata": {
        "id": "QLIuNT-ceAaq"
      },
      "source": [
        "def gradm(d,m,c):\n",
        "  sum = 0\n",
        "  for i in range(len(d)):\n",
        "    sum = sum + (d[i][1]-m*d[i][0]-c)*d[i][0]\n",
        "  return -1*sum/len(d)"
      ],
      "execution_count": 20,
      "outputs": []
    },
    {
      "cell_type": "code",
      "metadata": {
        "id": "bOm1h_CdeJ0U"
      },
      "source": [
        "def gradc(d,m,c):\n",
        "  sum = 0\n",
        "  for i in range(len(d)):\n",
        "    sum = sum + (d[i][1]-m*d[i][0]-c)\n",
        "  return -1*sum/len(d)"
      ],
      "execution_count": 21,
      "outputs": []
    },
    {
      "cell_type": "code",
      "metadata": {
        "colab": {
          "base_uri": "https://localhost:8080/",
          "height": 215
        },
        "id": "g4ealycDgHDS",
        "outputId": "db1360d9-4d78-4085-a101-6898307eb0ef"
      },
      "source": [
        "\n",
        "data = pd.read_csv(\"/content/kc_house_data.csv.zip\")\n",
        "data.head()"
      ],
      "execution_count": 22,
      "outputs": [
        {
          "output_type": "execute_result",
          "data": {
            "text/html": [
              "<div>\n",
              "<style scoped>\n",
              "    .dataframe tbody tr th:only-of-type {\n",
              "        vertical-align: middle;\n",
              "    }\n",
              "\n",
              "    .dataframe tbody tr th {\n",
              "        vertical-align: top;\n",
              "    }\n",
              "\n",
              "    .dataframe thead th {\n",
              "        text-align: right;\n",
              "    }\n",
              "</style>\n",
              "<table border=\"1\" class=\"dataframe\">\n",
              "  <thead>\n",
              "    <tr style=\"text-align: right;\">\n",
              "      <th></th>\n",
              "      <th>id</th>\n",
              "      <th>date</th>\n",
              "      <th>price</th>\n",
              "      <th>bedrooms</th>\n",
              "      <th>bathrooms</th>\n",
              "      <th>sqft_living</th>\n",
              "      <th>sqft_lot</th>\n",
              "      <th>floors</th>\n",
              "      <th>waterfront</th>\n",
              "      <th>view</th>\n",
              "      <th>condition</th>\n",
              "      <th>grade</th>\n",
              "      <th>sqft_above</th>\n",
              "      <th>sqft_basement</th>\n",
              "      <th>yr_built</th>\n",
              "      <th>yr_renovated</th>\n",
              "      <th>zipcode</th>\n",
              "      <th>lat</th>\n",
              "      <th>long</th>\n",
              "      <th>sqft_living15</th>\n",
              "      <th>sqft_lot15</th>\n",
              "    </tr>\n",
              "  </thead>\n",
              "  <tbody>\n",
              "    <tr>\n",
              "      <th>0</th>\n",
              "      <td>7129300520</td>\n",
              "      <td>20141013T000000</td>\n",
              "      <td>221900.0</td>\n",
              "      <td>3</td>\n",
              "      <td>1.00</td>\n",
              "      <td>1180</td>\n",
              "      <td>5650</td>\n",
              "      <td>1.0</td>\n",
              "      <td>0</td>\n",
              "      <td>0</td>\n",
              "      <td>3</td>\n",
              "      <td>7</td>\n",
              "      <td>1180</td>\n",
              "      <td>0</td>\n",
              "      <td>1955</td>\n",
              "      <td>0</td>\n",
              "      <td>98178</td>\n",
              "      <td>47.5112</td>\n",
              "      <td>-122.257</td>\n",
              "      <td>1340</td>\n",
              "      <td>5650</td>\n",
              "    </tr>\n",
              "    <tr>\n",
              "      <th>1</th>\n",
              "      <td>6414100192</td>\n",
              "      <td>20141209T000000</td>\n",
              "      <td>538000.0</td>\n",
              "      <td>3</td>\n",
              "      <td>2.25</td>\n",
              "      <td>2570</td>\n",
              "      <td>7242</td>\n",
              "      <td>2.0</td>\n",
              "      <td>0</td>\n",
              "      <td>0</td>\n",
              "      <td>3</td>\n",
              "      <td>7</td>\n",
              "      <td>2170</td>\n",
              "      <td>400</td>\n",
              "      <td>1951</td>\n",
              "      <td>1991</td>\n",
              "      <td>98125</td>\n",
              "      <td>47.7210</td>\n",
              "      <td>-122.319</td>\n",
              "      <td>1690</td>\n",
              "      <td>7639</td>\n",
              "    </tr>\n",
              "    <tr>\n",
              "      <th>2</th>\n",
              "      <td>5631500400</td>\n",
              "      <td>20150225T000000</td>\n",
              "      <td>180000.0</td>\n",
              "      <td>2</td>\n",
              "      <td>1.00</td>\n",
              "      <td>770</td>\n",
              "      <td>10000</td>\n",
              "      <td>1.0</td>\n",
              "      <td>0</td>\n",
              "      <td>0</td>\n",
              "      <td>3</td>\n",
              "      <td>6</td>\n",
              "      <td>770</td>\n",
              "      <td>0</td>\n",
              "      <td>1933</td>\n",
              "      <td>0</td>\n",
              "      <td>98028</td>\n",
              "      <td>47.7379</td>\n",
              "      <td>-122.233</td>\n",
              "      <td>2720</td>\n",
              "      <td>8062</td>\n",
              "    </tr>\n",
              "    <tr>\n",
              "      <th>3</th>\n",
              "      <td>2487200875</td>\n",
              "      <td>20141209T000000</td>\n",
              "      <td>604000.0</td>\n",
              "      <td>4</td>\n",
              "      <td>3.00</td>\n",
              "      <td>1960</td>\n",
              "      <td>5000</td>\n",
              "      <td>1.0</td>\n",
              "      <td>0</td>\n",
              "      <td>0</td>\n",
              "      <td>5</td>\n",
              "      <td>7</td>\n",
              "      <td>1050</td>\n",
              "      <td>910</td>\n",
              "      <td>1965</td>\n",
              "      <td>0</td>\n",
              "      <td>98136</td>\n",
              "      <td>47.5208</td>\n",
              "      <td>-122.393</td>\n",
              "      <td>1360</td>\n",
              "      <td>5000</td>\n",
              "    </tr>\n",
              "    <tr>\n",
              "      <th>4</th>\n",
              "      <td>1954400510</td>\n",
              "      <td>20150218T000000</td>\n",
              "      <td>510000.0</td>\n",
              "      <td>3</td>\n",
              "      <td>2.00</td>\n",
              "      <td>1680</td>\n",
              "      <td>8080</td>\n",
              "      <td>1.0</td>\n",
              "      <td>0</td>\n",
              "      <td>0</td>\n",
              "      <td>3</td>\n",
              "      <td>8</td>\n",
              "      <td>1680</td>\n",
              "      <td>0</td>\n",
              "      <td>1987</td>\n",
              "      <td>0</td>\n",
              "      <td>98074</td>\n",
              "      <td>47.6168</td>\n",
              "      <td>-122.045</td>\n",
              "      <td>1800</td>\n",
              "      <td>7503</td>\n",
              "    </tr>\n",
              "  </tbody>\n",
              "</table>\n",
              "</div>"
            ],
            "text/plain": [
              "           id             date     price  ...     long  sqft_living15  sqft_lot15\n",
              "0  7129300520  20141013T000000  221900.0  ... -122.257           1340        5650\n",
              "1  6414100192  20141209T000000  538000.0  ... -122.319           1690        7639\n",
              "2  5631500400  20150225T000000  180000.0  ... -122.233           2720        8062\n",
              "3  2487200875  20141209T000000  604000.0  ... -122.393           1360        5000\n",
              "4  1954400510  20150218T000000  510000.0  ... -122.045           1800        7503\n",
              "\n",
              "[5 rows x 21 columns]"
            ]
          },
          "metadata": {
            "tags": []
          },
          "execution_count": 22
        }
      ]
    },
    {
      "cell_type": "code",
      "metadata": {
        "colab": {
          "base_uri": "https://localhost:8080/",
          "height": 304
        },
        "id": "DiraPoyPg7QV",
        "outputId": "f2d2937a-1280-4c49-a41d-7ed908b32b33"
      },
      "source": [
        "data.describe()"
      ],
      "execution_count": 23,
      "outputs": [
        {
          "output_type": "execute_result",
          "data": {
            "text/html": [
              "<div>\n",
              "<style scoped>\n",
              "    .dataframe tbody tr th:only-of-type {\n",
              "        vertical-align: middle;\n",
              "    }\n",
              "\n",
              "    .dataframe tbody tr th {\n",
              "        vertical-align: top;\n",
              "    }\n",
              "\n",
              "    .dataframe thead th {\n",
              "        text-align: right;\n",
              "    }\n",
              "</style>\n",
              "<table border=\"1\" class=\"dataframe\">\n",
              "  <thead>\n",
              "    <tr style=\"text-align: right;\">\n",
              "      <th></th>\n",
              "      <th>id</th>\n",
              "      <th>price</th>\n",
              "      <th>bedrooms</th>\n",
              "      <th>bathrooms</th>\n",
              "      <th>sqft_living</th>\n",
              "      <th>sqft_lot</th>\n",
              "      <th>floors</th>\n",
              "      <th>waterfront</th>\n",
              "      <th>view</th>\n",
              "      <th>condition</th>\n",
              "      <th>grade</th>\n",
              "      <th>sqft_above</th>\n",
              "      <th>sqft_basement</th>\n",
              "      <th>yr_built</th>\n",
              "      <th>yr_renovated</th>\n",
              "      <th>zipcode</th>\n",
              "      <th>lat</th>\n",
              "      <th>long</th>\n",
              "      <th>sqft_living15</th>\n",
              "      <th>sqft_lot15</th>\n",
              "    </tr>\n",
              "  </thead>\n",
              "  <tbody>\n",
              "    <tr>\n",
              "      <th>count</th>\n",
              "      <td>2.161300e+04</td>\n",
              "      <td>2.161300e+04</td>\n",
              "      <td>21613.000000</td>\n",
              "      <td>21613.000000</td>\n",
              "      <td>21613.000000</td>\n",
              "      <td>2.161300e+04</td>\n",
              "      <td>21613.000000</td>\n",
              "      <td>21613.000000</td>\n",
              "      <td>21613.000000</td>\n",
              "      <td>21613.000000</td>\n",
              "      <td>21613.000000</td>\n",
              "      <td>21613.000000</td>\n",
              "      <td>21613.000000</td>\n",
              "      <td>21613.000000</td>\n",
              "      <td>21613.000000</td>\n",
              "      <td>21613.000000</td>\n",
              "      <td>21613.000000</td>\n",
              "      <td>21613.000000</td>\n",
              "      <td>21613.000000</td>\n",
              "      <td>21613.000000</td>\n",
              "    </tr>\n",
              "    <tr>\n",
              "      <th>mean</th>\n",
              "      <td>4.580302e+09</td>\n",
              "      <td>5.400881e+05</td>\n",
              "      <td>3.370842</td>\n",
              "      <td>2.114757</td>\n",
              "      <td>2079.899736</td>\n",
              "      <td>1.510697e+04</td>\n",
              "      <td>1.494309</td>\n",
              "      <td>0.007542</td>\n",
              "      <td>0.234303</td>\n",
              "      <td>3.409430</td>\n",
              "      <td>7.656873</td>\n",
              "      <td>1788.390691</td>\n",
              "      <td>291.509045</td>\n",
              "      <td>1971.005136</td>\n",
              "      <td>84.402258</td>\n",
              "      <td>98077.939805</td>\n",
              "      <td>47.560053</td>\n",
              "      <td>-122.213896</td>\n",
              "      <td>1986.552492</td>\n",
              "      <td>12768.455652</td>\n",
              "    </tr>\n",
              "    <tr>\n",
              "      <th>std</th>\n",
              "      <td>2.876566e+09</td>\n",
              "      <td>3.671272e+05</td>\n",
              "      <td>0.930062</td>\n",
              "      <td>0.770163</td>\n",
              "      <td>918.440897</td>\n",
              "      <td>4.142051e+04</td>\n",
              "      <td>0.539989</td>\n",
              "      <td>0.086517</td>\n",
              "      <td>0.766318</td>\n",
              "      <td>0.650743</td>\n",
              "      <td>1.175459</td>\n",
              "      <td>828.090978</td>\n",
              "      <td>442.575043</td>\n",
              "      <td>29.373411</td>\n",
              "      <td>401.679240</td>\n",
              "      <td>53.505026</td>\n",
              "      <td>0.138564</td>\n",
              "      <td>0.140828</td>\n",
              "      <td>685.391304</td>\n",
              "      <td>27304.179631</td>\n",
              "    </tr>\n",
              "    <tr>\n",
              "      <th>min</th>\n",
              "      <td>1.000102e+06</td>\n",
              "      <td>7.500000e+04</td>\n",
              "      <td>0.000000</td>\n",
              "      <td>0.000000</td>\n",
              "      <td>290.000000</td>\n",
              "      <td>5.200000e+02</td>\n",
              "      <td>1.000000</td>\n",
              "      <td>0.000000</td>\n",
              "      <td>0.000000</td>\n",
              "      <td>1.000000</td>\n",
              "      <td>1.000000</td>\n",
              "      <td>290.000000</td>\n",
              "      <td>0.000000</td>\n",
              "      <td>1900.000000</td>\n",
              "      <td>0.000000</td>\n",
              "      <td>98001.000000</td>\n",
              "      <td>47.155900</td>\n",
              "      <td>-122.519000</td>\n",
              "      <td>399.000000</td>\n",
              "      <td>651.000000</td>\n",
              "    </tr>\n",
              "    <tr>\n",
              "      <th>25%</th>\n",
              "      <td>2.123049e+09</td>\n",
              "      <td>3.219500e+05</td>\n",
              "      <td>3.000000</td>\n",
              "      <td>1.750000</td>\n",
              "      <td>1427.000000</td>\n",
              "      <td>5.040000e+03</td>\n",
              "      <td>1.000000</td>\n",
              "      <td>0.000000</td>\n",
              "      <td>0.000000</td>\n",
              "      <td>3.000000</td>\n",
              "      <td>7.000000</td>\n",
              "      <td>1190.000000</td>\n",
              "      <td>0.000000</td>\n",
              "      <td>1951.000000</td>\n",
              "      <td>0.000000</td>\n",
              "      <td>98033.000000</td>\n",
              "      <td>47.471000</td>\n",
              "      <td>-122.328000</td>\n",
              "      <td>1490.000000</td>\n",
              "      <td>5100.000000</td>\n",
              "    </tr>\n",
              "    <tr>\n",
              "      <th>50%</th>\n",
              "      <td>3.904930e+09</td>\n",
              "      <td>4.500000e+05</td>\n",
              "      <td>3.000000</td>\n",
              "      <td>2.250000</td>\n",
              "      <td>1910.000000</td>\n",
              "      <td>7.618000e+03</td>\n",
              "      <td>1.500000</td>\n",
              "      <td>0.000000</td>\n",
              "      <td>0.000000</td>\n",
              "      <td>3.000000</td>\n",
              "      <td>7.000000</td>\n",
              "      <td>1560.000000</td>\n",
              "      <td>0.000000</td>\n",
              "      <td>1975.000000</td>\n",
              "      <td>0.000000</td>\n",
              "      <td>98065.000000</td>\n",
              "      <td>47.571800</td>\n",
              "      <td>-122.230000</td>\n",
              "      <td>1840.000000</td>\n",
              "      <td>7620.000000</td>\n",
              "    </tr>\n",
              "    <tr>\n",
              "      <th>75%</th>\n",
              "      <td>7.308900e+09</td>\n",
              "      <td>6.450000e+05</td>\n",
              "      <td>4.000000</td>\n",
              "      <td>2.500000</td>\n",
              "      <td>2550.000000</td>\n",
              "      <td>1.068800e+04</td>\n",
              "      <td>2.000000</td>\n",
              "      <td>0.000000</td>\n",
              "      <td>0.000000</td>\n",
              "      <td>4.000000</td>\n",
              "      <td>8.000000</td>\n",
              "      <td>2210.000000</td>\n",
              "      <td>560.000000</td>\n",
              "      <td>1997.000000</td>\n",
              "      <td>0.000000</td>\n",
              "      <td>98118.000000</td>\n",
              "      <td>47.678000</td>\n",
              "      <td>-122.125000</td>\n",
              "      <td>2360.000000</td>\n",
              "      <td>10083.000000</td>\n",
              "    </tr>\n",
              "    <tr>\n",
              "      <th>max</th>\n",
              "      <td>9.900000e+09</td>\n",
              "      <td>7.700000e+06</td>\n",
              "      <td>33.000000</td>\n",
              "      <td>8.000000</td>\n",
              "      <td>13540.000000</td>\n",
              "      <td>1.651359e+06</td>\n",
              "      <td>3.500000</td>\n",
              "      <td>1.000000</td>\n",
              "      <td>4.000000</td>\n",
              "      <td>5.000000</td>\n",
              "      <td>13.000000</td>\n",
              "      <td>9410.000000</td>\n",
              "      <td>4820.000000</td>\n",
              "      <td>2015.000000</td>\n",
              "      <td>2015.000000</td>\n",
              "      <td>98199.000000</td>\n",
              "      <td>47.777600</td>\n",
              "      <td>-121.315000</td>\n",
              "      <td>6210.000000</td>\n",
              "      <td>871200.000000</td>\n",
              "    </tr>\n",
              "  </tbody>\n",
              "</table>\n",
              "</div>"
            ],
            "text/plain": [
              "                 id         price  ...  sqft_living15     sqft_lot15\n",
              "count  2.161300e+04  2.161300e+04  ...   21613.000000   21613.000000\n",
              "mean   4.580302e+09  5.400881e+05  ...    1986.552492   12768.455652\n",
              "std    2.876566e+09  3.671272e+05  ...     685.391304   27304.179631\n",
              "min    1.000102e+06  7.500000e+04  ...     399.000000     651.000000\n",
              "25%    2.123049e+09  3.219500e+05  ...    1490.000000    5100.000000\n",
              "50%    3.904930e+09  4.500000e+05  ...    1840.000000    7620.000000\n",
              "75%    7.308900e+09  6.450000e+05  ...    2360.000000   10083.000000\n",
              "max    9.900000e+09  7.700000e+06  ...    6210.000000  871200.000000\n",
              "\n",
              "[8 rows x 20 columns]"
            ]
          },
          "metadata": {
            "tags": []
          },
          "execution_count": 23
        }
      ]
    },
    {
      "cell_type": "code",
      "metadata": {
        "colab": {
          "base_uri": "https://localhost:8080/"
        },
        "id": "Y6QwCv-TjFBN",
        "outputId": "381eff6f-883a-4503-c780-aa1406464ecf"
      },
      "source": [
        "data.corr()['price']"
      ],
      "execution_count": 24,
      "outputs": [
        {
          "output_type": "execute_result",
          "data": {
            "text/plain": [
              "id              -0.016762\n",
              "price            1.000000\n",
              "bedrooms         0.308350\n",
              "bathrooms        0.525138\n",
              "sqft_living      0.702035\n",
              "sqft_lot         0.089661\n",
              "floors           0.256794\n",
              "waterfront       0.266369\n",
              "view             0.397293\n",
              "condition        0.036362\n",
              "grade            0.667434\n",
              "sqft_above       0.605567\n",
              "sqft_basement    0.323816\n",
              "yr_built         0.054012\n",
              "yr_renovated     0.126434\n",
              "zipcode         -0.053203\n",
              "lat              0.307003\n",
              "long             0.021626\n",
              "sqft_living15    0.585379\n",
              "sqft_lot15       0.082447\n",
              "Name: price, dtype: float64"
            ]
          },
          "metadata": {
            "tags": []
          },
          "execution_count": 24
        }
      ]
    },
    {
      "cell_type": "code",
      "metadata": {
        "colab": {
          "base_uri": "https://localhost:8080/"
        },
        "id": "KTpLeC-TjNZ8",
        "outputId": "c69a2d50-0541-401d-ebdb-c35a4a4ea857"
      },
      "source": [
        "\n",
        "data.info()"
      ],
      "execution_count": 25,
      "outputs": [
        {
          "output_type": "stream",
          "text": [
            "<class 'pandas.core.frame.DataFrame'>\n",
            "RangeIndex: 21613 entries, 0 to 21612\n",
            "Data columns (total 21 columns):\n",
            " #   Column         Non-Null Count  Dtype  \n",
            "---  ------         --------------  -----  \n",
            " 0   id             21613 non-null  int64  \n",
            " 1   date           21613 non-null  object \n",
            " 2   price          21613 non-null  float64\n",
            " 3   bedrooms       21613 non-null  int64  \n",
            " 4   bathrooms      21613 non-null  float64\n",
            " 5   sqft_living    21613 non-null  int64  \n",
            " 6   sqft_lot       21613 non-null  int64  \n",
            " 7   floors         21613 non-null  float64\n",
            " 8   waterfront     21613 non-null  int64  \n",
            " 9   view           21613 non-null  int64  \n",
            " 10  condition      21613 non-null  int64  \n",
            " 11  grade          21613 non-null  int64  \n",
            " 12  sqft_above     21613 non-null  int64  \n",
            " 13  sqft_basement  21613 non-null  int64  \n",
            " 14  yr_built       21613 non-null  int64  \n",
            " 15  yr_renovated   21613 non-null  int64  \n",
            " 16  zipcode        21613 non-null  int64  \n",
            " 17  lat            21613 non-null  float64\n",
            " 18  long           21613 non-null  float64\n",
            " 19  sqft_living15  21613 non-null  int64  \n",
            " 20  sqft_lot15     21613 non-null  int64  \n",
            "dtypes: float64(5), int64(15), object(1)\n",
            "memory usage: 3.5+ MB\n"
          ],
          "name": "stdout"
        }
      ]
    },
    {
      "cell_type": "code",
      "metadata": {
        "colab": {
          "base_uri": "https://localhost:8080/",
          "height": 296
        },
        "id": "T3b2gtBzjYSD",
        "outputId": "799cfeb4-8ec7-4758-d312-eba0020afb36"
      },
      "source": [
        "y = data['price']\n",
        "x = data['sqft_living']\n",
        "\n",
        "plt.scatter(data['price'],data['sqft_living'])"
      ],
      "execution_count": 26,
      "outputs": [
        {
          "output_type": "execute_result",
          "data": {
            "text/plain": [
              "<matplotlib.collections.PathCollection at 0x7f4246870cd0>"
            ]
          },
          "metadata": {
            "tags": []
          },
          "execution_count": 26
        },
        {
          "output_type": "display_data",
          "data": {
            "image/png": "[encoded data removed]",
            "text/plain": [
              "<Figure size 432x288 with 1 Axes>"
            ]
          },
          "metadata": {
            "tags": [],
            "needs_background": "light"
          }
        }
      ]
    },
    {
      "cell_type": "code",
      "metadata": {
        "colab": {
          "base_uri": "https://localhost:8080/",
          "height": 350
        },
        "id": "l0KwgzIijxSP",
        "outputId": "f3b6e16d-9020-4486-deda-e4a97c70083c"
      },
      "source": [
        "sns.boxplot(x)"
      ],
      "execution_count": 27,
      "outputs": [
        {
          "output_type": "stream",
          "text": [
            "/usr/local/lib/python3.7/dist-packages/seaborn/_decorators.py:43: FutureWarning: Pass the following variable as a keyword arg: x. From version 0.12, the only valid positional argument will be `data`, and passing other arguments without an explicit keyword will result in an error or misinterpretation.\n",
            "  FutureWarning\n"
          ],
          "name": "stderr"
        },
        {
          "output_type": "execute_result",
          "data": {
            "text/plain": [
              "<matplotlib.axes._subplots.AxesSubplot at 0x7f42467f5550>"
            ]
          },
          "metadata": {
            "tags": []
          },
          "execution_count": 27
        },
        {
          "output_type": "display_data",
          "data": {
            "image/png": "[encoded data removed]",
            "text/plain": [
              "<Figure size 432x288 with 1 Axes>"
            ]
          },
          "metadata": {
            "tags": [],
            "needs_background": "light"
          }
        }
      ]
    },
    {
      "cell_type": "code",
      "metadata": {
        "colab": {
          "base_uri": "https://localhost:8080/",
          "height": 350
        },
        "id": "TghxxEmij7zZ",
        "outputId": "ed658a69-9de6-4ebb-f022-fcb24612fd8d"
      },
      "source": [
        "sns.boxplot(y)"
      ],
      "execution_count": 28,
      "outputs": [
        {
          "output_type": "stream",
          "text": [
            "/usr/local/lib/python3.7/dist-packages/seaborn/_decorators.py:43: FutureWarning: Pass the following variable as a keyword arg: x. From version 0.12, the only valid positional argument will be `data`, and passing other arguments without an explicit keyword will result in an error or misinterpretation.\n",
            "  FutureWarning\n"
          ],
          "name": "stderr"
        },
        {
          "output_type": "execute_result",
          "data": {
            "text/plain": [
              "<matplotlib.axes._subplots.AxesSubplot at 0x7f4246311ed0>"
            ]
          },
          "metadata": {
            "tags": []
          },
          "execution_count": 28
        },
        {
          "output_type": "display_data",
          "data": {
            "image/png": "[encoded data removed]",
            "text/plain": [
              "<Figure size 432x288 with 1 Axes>"
            ]
          },
          "metadata": {
            "tags": [],
            "needs_background": "light"
          }
        }
      ]
    },
    {
      "cell_type": "code",
      "metadata": {
        "id": "pN3T6Nt3kFM6"
      },
      "source": [
        "threshold = 3\n",
        "x = list(x)\n",
        "y = list(y)\n",
        "x_new = []\n",
        "y_new = []\n",
        "\n",
        "z = np.abs(stats.zscore(x))\n",
        "outliers = np.where(z > threshold)\n",
        "\n",
        "for i in range(len(x)):\n",
        "  if i not in outliers[0]:\n",
        "    x_new.append(x[i])\n",
        "    y_new.append(y[i])"
      ],
      "execution_count": 30,
      "outputs": []
    },
    {
      "cell_type": "code",
      "metadata": {
        "id": "ihGBx3RvkMyV"
      },
      "source": [
        "x = x_new\n",
        "y = y_new\n",
        "\n",
        "x_new = []\n",
        "y_new = []\n",
        "\n",
        "z = np.abs(stats.zscore(y))\n",
        "outliers = np.where(z > threshold)\n",
        "for i in range(len(x)):\n",
        "  if i not in outliers[0]:\n",
        "    x_new.append(x[i])\n",
        "    y_new.append(y[i])"
      ],
      "execution_count": 31,
      "outputs": []
    },
    {
      "cell_type": "code",
      "metadata": {
        "colab": {
          "base_uri": "https://localhost:8080/"
        },
        "id": "37-awW03kTER",
        "outputId": "89bce32f-b94c-475d-fd2f-2e02abfa4e1b"
      },
      "source": [
        "print(len(x_new))\n",
        "print(len(y_new))"
      ],
      "execution_count": 32,
      "outputs": [
        {
          "output_type": "stream",
          "text": [
            "20957\n",
            "20957\n"
          ],
          "name": "stdout"
        }
      ]
    },
    {
      "cell_type": "code",
      "metadata": {
        "id": "a0NBftCbkbNG"
      },
      "source": [
        "x = x_new\n",
        "y = y_new"
      ],
      "execution_count": 33,
      "outputs": []
    },
    {
      "cell_type": "code",
      "metadata": {
        "colab": {
          "base_uri": "https://localhost:8080/",
          "height": 293
        },
        "id": "6Ht6ZVifkwty",
        "outputId": "0f5c46f8-d07f-4cb9-e897-5e2610497bea"
      },
      "source": [
        "plt.scatter(x,y)\n"
      ],
      "execution_count": 34,
      "outputs": [
        {
          "output_type": "execute_result",
          "data": {
            "text/plain": [
              "<matplotlib.collections.PathCollection at 0x7f4246269f50>"
            ]
          },
          "metadata": {
            "tags": []
          },
          "execution_count": 34
        },
        {
          "output_type": "display_data",
          "data": {
            "image/png": "[encoded data removed]",
            "text/plain": [
              "<Figure size 432x288 with 1 Axes>"
            ]
          },
          "metadata": {
            "tags": [],
            "needs_background": "light"
          }
        }
      ]
    },
    {
      "cell_type": "code",
      "metadata": {
        "id": "VQwE3BfTlCWN"
      },
      "source": [
        "x = minmax_scale(x)\n",
        "y = minmax_scale(y)"
      ],
      "execution_count": 35,
      "outputs": []
    },
    {
      "cell_type": "code",
      "metadata": {
        "id": "EuN_XA50lED6"
      },
      "source": [
        "cleaned_data = [(x[i],y[i]) for i in range(len(x))]"
      ],
      "execution_count": 36,
      "outputs": []
    },
    {
      "cell_type": "code",
      "metadata": {
        "id": "TuNKfGyelM5R"
      },
      "source": [
        "cleaned_data_train, cleaned_data_test = train_test_split(cleaned_data,test_size=0.1)"
      ],
      "execution_count": 37,
      "outputs": []
    },
    {
      "cell_type": "code",
      "metadata": {
        "colab": {
          "base_uri": "https://localhost:8080/"
        },
        "id": "jBLafkiHlVmF",
        "outputId": "d8c5e64a-8a46-49fd-93dc-137f16d1e8c6"
      },
      "source": [
        "\n",
        "print(len(cleaned_data_train))\n",
        "print(len(cleaned_data_test))"
      ],
      "execution_count": 38,
      "outputs": [
        {
          "output_type": "stream",
          "text": [
            "18861\n",
            "2096\n"
          ],
          "name": "stdout"
        }
      ]
    },
    {
      "cell_type": "code",
      "metadata": {
        "id": "aQzmDj_XleIQ"
      },
      "source": [
        "\n",
        "epochs = 20\n",
        "learning_rate = 0.01\n",
        "batch_size = 500\n",
        "number_of_samples = len(cleaned_data_train)\n",
        "number_of_batches = number_of_samples//batch_size\n",
        "m = 1\n",
        "c = 1"
      ],
      "execution_count": 39,
      "outputs": []
    },
    {
      "cell_type": "code",
      "metadata": {
        "colab": {
          "base_uri": "https://localhost:8080/"
        },
        "id": "FJerru0YlqWI",
        "outputId": "eef4cfc2-e268-40f4-acdf-d32af3e0177f"
      },
      "source": [
        "error_list = []\n",
        "for i in range(epochs):\n",
        "  for j in range(number_of_batches+1):\n",
        "    if j == number_of_batches:\n",
        "      d = cleaned_data_train[j*batch_size:]\n",
        "    else:\n",
        "      d = cleaned_data_train[j*batch_size:(j+1)*batch_size]\n",
        "    deltam = -1*learning_rate*gradm(d,m,c)\n",
        "    deltac = -1*learning_rate*gradc(d,m,c)\n",
        "    m = m + deltam\n",
        "    c = c + deltac\n",
        "    err = error(d,m,c)\n",
        "    print(\"epoch : {}, batch : {} >> error : {}\".format(i,j,err))\n",
        "    error_list.append(err)\n",
        "  random.shuffle(cleaned_data_train)"
      ],
      "execution_count": 40,
      "outputs": [
        {
          "output_type": "stream",
          "text": [
            "epoch : 0, batch : 0 >> error : 0.5694959523219958\n",
            "epoch : 0, batch : 1 >> error : 0.5564815569670144\n",
            "epoch : 0, batch : 2 >> error : 0.5523354635277752\n",
            "epoch : 0, batch : 3 >> error : 0.5324273107110032\n",
            "epoch : 0, batch : 4 >> error : 0.5271581917783946\n",
            "epoch : 0, batch : 5 >> error : 0.5045576573520099\n",
            "epoch : 0, batch : 6 >> error : 0.5019279692504184\n",
            "epoch : 0, batch : 7 >> error : 0.49314410620041643\n",
            "epoch : 0, batch : 8 >> error : 0.47428050103022706\n",
            "epoch : 0, batch : 9 >> error : 0.4710386725513532\n",
            "epoch : 0, batch : 10 >> error : 0.4668211082564297\n",
            "epoch : 0, batch : 11 >> error : 0.447245111135274\n",
            "epoch : 0, batch : 12 >> error : 0.4440820343445094\n",
            "epoch : 0, batch : 13 >> error : 0.4302663415332518\n",
            "epoch : 0, batch : 14 >> error : 0.4160223081619975\n",
            "epoch : 0, batch : 15 >> error : 0.40692416098381595\n",
            "epoch : 0, batch : 16 >> error : 0.3867013962401096\n",
            "epoch : 0, batch : 17 >> error : 0.3925626555938737\n",
            "epoch : 0, batch : 18 >> error : 0.37760144333938933\n",
            "epoch : 0, batch : 19 >> error : 0.3765813584450344\n",
            "epoch : 0, batch : 20 >> error : 0.3610099149640555\n",
            "epoch : 0, batch : 21 >> error : 0.35408167700622656\n",
            "epoch : 0, batch : 22 >> error : 0.3617050446913898\n",
            "epoch : 0, batch : 23 >> error : 0.34563672597399125\n",
            "epoch : 0, batch : 24 >> error : 0.33115415302889456\n",
            "epoch : 0, batch : 25 >> error : 0.3280491315270643\n",
            "epoch : 0, batch : 26 >> error : 0.3260473444508329\n",
            "epoch : 0, batch : 27 >> error : 0.3147706288846778\n",
            "epoch : 0, batch : 28 >> error : 0.3075998055403786\n",
            "epoch : 0, batch : 29 >> error : 0.2942713295099778\n",
            "epoch : 0, batch : 30 >> error : 0.283797905776356\n",
            "epoch : 0, batch : 31 >> error : 0.2880832882979708\n",
            "epoch : 0, batch : 32 >> error : 0.2789304207677779\n",
            "epoch : 0, batch : 33 >> error : 0.2768427360437052\n",
            "epoch : 0, batch : 34 >> error : 0.2619561922944434\n",
            "epoch : 0, batch : 35 >> error : 0.2600737502107387\n",
            "epoch : 0, batch : 36 >> error : 0.24995136934093495\n",
            "epoch : 0, batch : 37 >> error : 0.2435160736323458\n",
            "epoch : 1, batch : 0 >> error : 0.2456705188287594\n",
            "epoch : 1, batch : 1 >> error : 0.24221501345156896\n",
            "epoch : 1, batch : 2 >> error : 0.23331766713765828\n",
            "epoch : 1, batch : 3 >> error : 0.22395582161722388\n",
            "epoch : 1, batch : 4 >> error : 0.2196758629872545\n",
            "epoch : 1, batch : 5 >> error : 0.2230744237482948\n",
            "epoch : 1, batch : 6 >> error : 0.21267362765718315\n",
            "epoch : 1, batch : 7 >> error : 0.20799020256757111\n",
            "epoch : 1, batch : 8 >> error : 0.19993869093453684\n",
            "epoch : 1, batch : 9 >> error : 0.20338748226398826\n",
            "epoch : 1, batch : 10 >> error : 0.20278197173475565\n",
            "epoch : 1, batch : 11 >> error : 0.1910862684988047\n",
            "epoch : 1, batch : 12 >> error : 0.18544461866636588\n",
            "epoch : 1, batch : 13 >> error : 0.1823859278094651\n",
            "epoch : 1, batch : 14 >> error : 0.1775154285416801\n",
            "epoch : 1, batch : 15 >> error : 0.17795135505890647\n",
            "epoch : 1, batch : 16 >> error : 0.16766864974973028\n",
            "epoch : 1, batch : 17 >> error : 0.1719441307088503\n",
            "epoch : 1, batch : 18 >> error : 0.1601176939308643\n",
            "epoch : 1, batch : 19 >> error : 0.15852309875997644\n",
            "epoch : 1, batch : 20 >> error : 0.15517963765243042\n",
            "epoch : 1, batch : 21 >> error : 0.15183485219982865\n",
            "epoch : 1, batch : 22 >> error : 0.15009429344916458\n",
            "epoch : 1, batch : 23 >> error : 0.14844193794144037\n",
            "epoch : 1, batch : 24 >> error : 0.14314629750203517\n",
            "epoch : 1, batch : 25 >> error : 0.14647126306346975\n",
            "epoch : 1, batch : 26 >> error : 0.13958495534696552\n",
            "epoch : 1, batch : 27 >> error : 0.13327669872574496\n",
            "epoch : 1, batch : 28 >> error : 0.12829206761493192\n",
            "epoch : 1, batch : 29 >> error : 0.12971338987065584\n",
            "epoch : 1, batch : 30 >> error : 0.12482865791472698\n",
            "epoch : 1, batch : 31 >> error : 0.12680915593890058\n",
            "epoch : 1, batch : 32 >> error : 0.12028920983451623\n",
            "epoch : 1, batch : 33 >> error : 0.12090771053107738\n",
            "epoch : 1, batch : 34 >> error : 0.11465898658241694\n",
            "epoch : 1, batch : 35 >> error : 0.11830416389541507\n",
            "epoch : 1, batch : 36 >> error : 0.11073790396835333\n",
            "epoch : 1, batch : 37 >> error : 0.10478005848932562\n",
            "epoch : 2, batch : 0 >> error : 0.10573566818689868\n",
            "epoch : 2, batch : 1 >> error : 0.10389701483141284\n",
            "epoch : 2, batch : 2 >> error : 0.09904695536488667\n",
            "epoch : 2, batch : 3 >> error : 0.09905309118301718\n",
            "epoch : 2, batch : 4 >> error : 0.09812169024401826\n",
            "epoch : 2, batch : 5 >> error : 0.09897104966623134\n",
            "epoch : 2, batch : 6 >> error : 0.09495712727732805\n",
            "epoch : 2, batch : 7 >> error : 0.09372802311617628\n",
            "epoch : 2, batch : 8 >> error : 0.0895778316004912\n",
            "epoch : 2, batch : 9 >> error : 0.08816717213229755\n",
            "epoch : 2, batch : 10 >> error : 0.0862074789062101\n",
            "epoch : 2, batch : 11 >> error : 0.08259765393934011\n",
            "epoch : 2, batch : 12 >> error : 0.08022753428395857\n",
            "epoch : 2, batch : 13 >> error : 0.08073755524434942\n",
            "epoch : 2, batch : 14 >> error : 0.07961561210149329\n",
            "epoch : 2, batch : 15 >> error : 0.07921139345168446\n",
            "epoch : 2, batch : 16 >> error : 0.07614751574491127\n",
            "epoch : 2, batch : 17 >> error : 0.07584039860966041\n",
            "epoch : 2, batch : 18 >> error : 0.07427201553714338\n",
            "epoch : 2, batch : 19 >> error : 0.07346761821637124\n",
            "epoch : 2, batch : 20 >> error : 0.06905868414264077\n",
            "epoch : 2, batch : 21 >> error : 0.07216201432230744\n",
            "epoch : 2, batch : 22 >> error : 0.06839921740160175\n",
            "epoch : 2, batch : 23 >> error : 0.06532967381970897\n",
            "epoch : 2, batch : 24 >> error : 0.0653654324634829\n",
            "epoch : 2, batch : 25 >> error : 0.06568305396927619\n",
            "epoch : 2, batch : 26 >> error : 0.06038494612482854\n",
            "epoch : 2, batch : 27 >> error : 0.06221569511525405\n",
            "epoch : 2, batch : 28 >> error : 0.05935404164663719\n",
            "epoch : 2, batch : 29 >> error : 0.06020606636073112\n",
            "epoch : 2, batch : 30 >> error : 0.05835568583167216\n",
            "epoch : 2, batch : 31 >> error : 0.05849260968417409\n",
            "epoch : 2, batch : 32 >> error : 0.05646205205371749\n",
            "epoch : 2, batch : 33 >> error : 0.05657199971462606\n",
            "epoch : 2, batch : 34 >> error : 0.055313296704271146\n",
            "epoch : 2, batch : 35 >> error : 0.051049257495688546\n",
            "epoch : 2, batch : 36 >> error : 0.049094724918887916\n",
            "epoch : 2, batch : 37 >> error : 0.04882317857088278\n",
            "epoch : 3, batch : 0 >> error : 0.04938794435829417\n",
            "epoch : 3, batch : 1 >> error : 0.04912712206086587\n",
            "epoch : 3, batch : 2 >> error : 0.04719216732919263\n",
            "epoch : 3, batch : 3 >> error : 0.04806268529205597\n",
            "epoch : 3, batch : 4 >> error : 0.045137505690322856\n",
            "epoch : 3, batch : 5 >> error : 0.046013160795415585\n",
            "epoch : 3, batch : 6 >> error : 0.04453680706832018\n",
            "epoch : 3, batch : 7 >> error : 0.043811716968472345\n",
            "epoch : 3, batch : 8 >> error : 0.038416043133861266\n",
            "epoch : 3, batch : 9 >> error : 0.0431238909852507\n",
            "epoch : 3, batch : 10 >> error : 0.04289678922199554\n",
            "epoch : 3, batch : 11 >> error : 0.04170625534606488\n",
            "epoch : 3, batch : 12 >> error : 0.03947399409988309\n",
            "epoch : 3, batch : 13 >> error : 0.03937719420060519\n",
            "epoch : 3, batch : 14 >> error : 0.038865368467138305\n",
            "epoch : 3, batch : 15 >> error : 0.03569825740626956\n",
            "epoch : 3, batch : 16 >> error : 0.03433167781127098\n",
            "epoch : 3, batch : 17 >> error : 0.03678944595637944\n",
            "epoch : 3, batch : 18 >> error : 0.03602091890721807\n",
            "epoch : 3, batch : 19 >> error : 0.03532408658432951\n",
            "epoch : 3, batch : 20 >> error : 0.03332305957246398\n",
            "epoch : 3, batch : 21 >> error : 0.03275833690392673\n",
            "epoch : 3, batch : 22 >> error : 0.03210777946298486\n",
            "epoch : 3, batch : 23 >> error : 0.034707838426694296\n",
            "epoch : 3, batch : 24 >> error : 0.03266118397607237\n",
            "epoch : 3, batch : 25 >> error : 0.030879690692265434\n",
            "epoch : 3, batch : 26 >> error : 0.032124794541208174\n",
            "epoch : 3, batch : 27 >> error : 0.03263773687996863\n",
            "epoch : 3, batch : 28 >> error : 0.03003829752058064\n",
            "epoch : 3, batch : 29 >> error : 0.030057862539952143\n",
            "epoch : 3, batch : 30 >> error : 0.028850732221626776\n",
            "epoch : 3, batch : 31 >> error : 0.030073820001540793\n",
            "epoch : 3, batch : 32 >> error : 0.027406399345881634\n",
            "epoch : 3, batch : 33 >> error : 0.026970738063095044\n",
            "epoch : 3, batch : 34 >> error : 0.02713322882438551\n",
            "epoch : 3, batch : 35 >> error : 0.027897749547413926\n",
            "epoch : 3, batch : 36 >> error : 0.029071565978129852\n",
            "epoch : 3, batch : 37 >> error : 0.026354840654121955\n",
            "epoch : 4, batch : 0 >> error : 0.025223855567049387\n",
            "epoch : 4, batch : 1 >> error : 0.026092837610779133\n",
            "epoch : 4, batch : 2 >> error : 0.023679398166550302\n",
            "epoch : 4, batch : 3 >> error : 0.0240015897593139\n",
            "epoch : 4, batch : 4 >> error : 0.025023253785358034\n",
            "epoch : 4, batch : 5 >> error : 0.023321043751314535\n",
            "epoch : 4, batch : 6 >> error : 0.023280656651376814\n",
            "epoch : 4, batch : 7 >> error : 0.023846457083820667\n",
            "epoch : 4, batch : 8 >> error : 0.02266788469174651\n",
            "epoch : 4, batch : 9 >> error : 0.021803396274899554\n",
            "epoch : 4, batch : 10 >> error : 0.02332127794747779\n",
            "epoch : 4, batch : 11 >> error : 0.022883365764408217\n",
            "epoch : 4, batch : 12 >> error : 0.024465956065899748\n",
            "epoch : 4, batch : 13 >> error : 0.021121140924508515\n",
            "epoch : 4, batch : 14 >> error : 0.0201016595070286\n",
            "epoch : 4, batch : 15 >> error : 0.020417329404959213\n",
            "epoch : 4, batch : 16 >> error : 0.020482217532040485\n",
            "epoch : 4, batch : 17 >> error : 0.01980430950717639\n",
            "epoch : 4, batch : 18 >> error : 0.02007121080458689\n",
            "epoch : 4, batch : 19 >> error : 0.020234620205901773\n",
            "epoch : 4, batch : 20 >> error : 0.01783341566327868\n",
            "epoch : 4, batch : 21 >> error : 0.019509868661978305\n",
            "epoch : 4, batch : 22 >> error : 0.018455004716231693\n",
            "epoch : 4, batch : 23 >> error : 0.01776402768651533\n",
            "epoch : 4, batch : 24 >> error : 0.01913390145380714\n",
            "epoch : 4, batch : 25 >> error : 0.018179605851589932\n",
            "epoch : 4, batch : 26 >> error : 0.01959604796364892\n",
            "epoch : 4, batch : 27 >> error : 0.01983010445597595\n",
            "epoch : 4, batch : 28 >> error : 0.017478862473329533\n",
            "epoch : 4, batch : 29 >> error : 0.016793554743157444\n",
            "epoch : 4, batch : 30 >> error : 0.018433799771769385\n",
            "epoch : 4, batch : 31 >> error : 0.016422576984102946\n",
            "epoch : 4, batch : 32 >> error : 0.016434381994551505\n",
            "epoch : 4, batch : 33 >> error : 0.01699841679001954\n",
            "epoch : 4, batch : 34 >> error : 0.01737860633974761\n",
            "epoch : 4, batch : 35 >> error : 0.016730026646646436\n",
            "epoch : 4, batch : 36 >> error : 0.017709225400677518\n",
            "epoch : 4, batch : 37 >> error : 0.01492197369652767\n",
            "epoch : 5, batch : 0 >> error : 0.014090904064168453\n",
            "epoch : 5, batch : 1 >> error : 0.014921410043219476\n",
            "epoch : 5, batch : 2 >> error : 0.015010298519267913\n",
            "epoch : 5, batch : 3 >> error : 0.015395229187495758\n",
            "epoch : 5, batch : 4 >> error : 0.01636870337484863\n",
            "epoch : 5, batch : 5 >> error : 0.014255782338320954\n",
            "epoch : 5, batch : 6 >> error : 0.014335395202692806\n",
            "epoch : 5, batch : 7 >> error : 0.014477270765191903\n",
            "epoch : 5, batch : 8 >> error : 0.015142381955523794\n",
            "epoch : 5, batch : 9 >> error : 0.014780412220846853\n",
            "epoch : 5, batch : 10 >> error : 0.015107539766415741\n",
            "epoch : 5, batch : 11 >> error : 0.014323324951029668\n",
            "epoch : 5, batch : 12 >> error : 0.015595068146562217\n",
            "epoch : 5, batch : 13 >> error : 0.014261776344167962\n",
            "epoch : 5, batch : 14 >> error : 0.013763809030236584\n",
            "epoch : 5, batch : 15 >> error : 0.014152654549551209\n",
            "epoch : 5, batch : 16 >> error : 0.01432334718820405\n",
            "epoch : 5, batch : 17 >> error : 0.014046206749750382\n",
            "epoch : 5, batch : 18 >> error : 0.012850016357090783\n",
            "epoch : 5, batch : 19 >> error : 0.013027758949017273\n",
            "epoch : 5, batch : 20 >> error : 0.012624471054324932\n",
            "epoch : 5, batch : 21 >> error : 0.013162859574513552\n",
            "epoch : 5, batch : 22 >> error : 0.014068816717613994\n",
            "epoch : 5, batch : 23 >> error : 0.013736750024769036\n",
            "epoch : 5, batch : 24 >> error : 0.011489261788781709\n",
            "epoch : 5, batch : 25 >> error : 0.0127494636438257\n",
            "epoch : 5, batch : 26 >> error : 0.013666775445022717\n",
            "epoch : 5, batch : 27 >> error : 0.013449164671094544\n",
            "epoch : 5, batch : 28 >> error : 0.013222873445580444\n",
            "epoch : 5, batch : 29 >> error : 0.01252028989749049\n",
            "epoch : 5, batch : 30 >> error : 0.013056374636656976\n",
            "epoch : 5, batch : 31 >> error : 0.013285855084403303\n",
            "epoch : 5, batch : 32 >> error : 0.012190478019252219\n",
            "epoch : 5, batch : 33 >> error : 0.012623060817938637\n",
            "epoch : 5, batch : 34 >> error : 0.011863853466658527\n",
            "epoch : 5, batch : 35 >> error : 0.011029763548603046\n",
            "epoch : 5, batch : 36 >> error : 0.011469678684159122\n",
            "epoch : 5, batch : 37 >> error : 0.012150530139348118\n",
            "epoch : 6, batch : 0 >> error : 0.011797583214204611\n",
            "epoch : 6, batch : 1 >> error : 0.012375654257461646\n",
            "epoch : 6, batch : 2 >> error : 0.01144937332816948\n",
            "epoch : 6, batch : 3 >> error : 0.011149823990796481\n",
            "epoch : 6, batch : 4 >> error : 0.010593013587199362\n",
            "epoch : 6, batch : 5 >> error : 0.011997354303512437\n",
            "epoch : 6, batch : 6 >> error : 0.012746862711334555\n",
            "epoch : 6, batch : 7 >> error : 0.01089970599345307\n",
            "epoch : 6, batch : 8 >> error : 0.011137748090586312\n",
            "epoch : 6, batch : 9 >> error : 0.011454359683382324\n",
            "epoch : 6, batch : 10 >> error : 0.011061875022029592\n",
            "epoch : 6, batch : 11 >> error : 0.0110264538305694\n",
            "epoch : 6, batch : 12 >> error : 0.010251640535889357\n",
            "epoch : 6, batch : 13 >> error : 0.01115884833586561\n",
            "epoch : 6, batch : 14 >> error : 0.011907455898874163\n",
            "epoch : 6, batch : 15 >> error : 0.01084450970404471\n",
            "epoch : 6, batch : 16 >> error : 0.011441710780920027\n",
            "epoch : 6, batch : 17 >> error : 0.01143781912392916\n",
            "epoch : 6, batch : 18 >> error : 0.011404754388440278\n",
            "epoch : 6, batch : 19 >> error : 0.01017344803589586\n",
            "epoch : 6, batch : 20 >> error : 0.010928841256594254\n",
            "epoch : 6, batch : 21 >> error : 0.010547238002340038\n",
            "epoch : 6, batch : 22 >> error : 0.010897933135557834\n",
            "epoch : 6, batch : 23 >> error : 0.010006712022669059\n",
            "epoch : 6, batch : 24 >> error : 0.010147959037014934\n",
            "epoch : 6, batch : 25 >> error : 0.009622573931304704\n",
            "epoch : 6, batch : 26 >> error : 0.010312738323746908\n",
            "epoch : 6, batch : 27 >> error : 0.01038958628049705\n",
            "epoch : 6, batch : 28 >> error : 0.009994412714300769\n",
            "epoch : 6, batch : 29 >> error : 0.011083395282927674\n",
            "epoch : 6, batch : 30 >> error : 0.011347688361071808\n",
            "epoch : 6, batch : 31 >> error : 0.009712140721034377\n",
            "epoch : 6, batch : 32 >> error : 0.011063419282697117\n",
            "epoch : 6, batch : 33 >> error : 0.00966340225162998\n",
            "epoch : 6, batch : 34 >> error : 0.010140253579872749\n",
            "epoch : 6, batch : 35 >> error : 0.01141559489171234\n",
            "epoch : 6, batch : 36 >> error : 0.010643303610803847\n",
            "epoch : 6, batch : 37 >> error : 0.008651468450223028\n",
            "epoch : 7, batch : 0 >> error : 0.009858548203693779\n",
            "epoch : 7, batch : 1 >> error : 0.010778789693418127\n",
            "epoch : 7, batch : 2 >> error : 0.010994015048404608\n",
            "epoch : 7, batch : 3 >> error : 0.010335789850022606\n",
            "epoch : 7, batch : 4 >> error : 0.009372171905906475\n",
            "epoch : 7, batch : 5 >> error : 0.010228875426626404\n",
            "epoch : 7, batch : 6 >> error : 0.010546279255847349\n",
            "epoch : 7, batch : 7 >> error : 0.009690365498784152\n",
            "epoch : 7, batch : 8 >> error : 0.008800167983824447\n",
            "epoch : 7, batch : 9 >> error : 0.00941075644182066\n",
            "epoch : 7, batch : 10 >> error : 0.009747744139543687\n",
            "epoch : 7, batch : 11 >> error : 0.011426396011906441\n",
            "epoch : 7, batch : 12 >> error : 0.00912632620274112\n",
            "epoch : 7, batch : 13 >> error : 0.009061998530214358\n",
            "epoch : 7, batch : 14 >> error : 0.010469936954553205\n",
            "epoch : 7, batch : 15 >> error : 0.010874260316334514\n",
            "epoch : 7, batch : 16 >> error : 0.009166189536826434\n",
            "epoch : 7, batch : 17 >> error : 0.008958552028816655\n",
            "epoch : 7, batch : 18 >> error : 0.010134228703339842\n",
            "epoch : 7, batch : 19 >> error : 0.009094074230788028\n",
            "epoch : 7, batch : 20 >> error : 0.009390644212437807\n",
            "epoch : 7, batch : 21 >> error : 0.009021917188630805\n",
            "epoch : 7, batch : 22 >> error : 0.009606328703855306\n",
            "epoch : 7, batch : 23 >> error : 0.01036591304925762\n",
            "epoch : 7, batch : 24 >> error : 0.009226543742244643\n",
            "epoch : 7, batch : 25 >> error : 0.0097217811119794\n",
            "epoch : 7, batch : 26 >> error : 0.009614235884423021\n",
            "epoch : 7, batch : 27 >> error : 0.00865753896107839\n",
            "epoch : 7, batch : 28 >> error : 0.009147592633069888\n",
            "epoch : 7, batch : 29 >> error : 0.010977351552218224\n",
            "epoch : 7, batch : 30 >> error : 0.009946898159751862\n",
            "epoch : 7, batch : 31 >> error : 0.007562718161367443\n",
            "epoch : 7, batch : 32 >> error : 0.009602245768196245\n",
            "epoch : 7, batch : 33 >> error : 0.009683677740706009\n",
            "epoch : 7, batch : 34 >> error : 0.0097018197217734\n",
            "epoch : 7, batch : 35 >> error : 0.010165838464894826\n",
            "epoch : 7, batch : 36 >> error : 0.009898532168034019\n",
            "epoch : 7, batch : 37 >> error : 0.009179345927573239\n",
            "epoch : 8, batch : 0 >> error : 0.008496142905015875\n",
            "epoch : 8, batch : 1 >> error : 0.008508621598347465\n",
            "epoch : 8, batch : 2 >> error : 0.01086955925251843\n",
            "epoch : 8, batch : 3 >> error : 0.009234937851219864\n",
            "epoch : 8, batch : 4 >> error : 0.009596428863375871\n",
            "epoch : 8, batch : 5 >> error : 0.010123021031586845\n",
            "epoch : 8, batch : 6 >> error : 0.009310907305595324\n",
            "epoch : 8, batch : 7 >> error : 0.008323598190778539\n",
            "epoch : 8, batch : 8 >> error : 0.00923060771546006\n",
            "epoch : 8, batch : 9 >> error : 0.009539908430752279\n",
            "epoch : 8, batch : 10 >> error : 0.008935413490751594\n",
            "epoch : 8, batch : 11 >> error : 0.009833352019651739\n",
            "epoch : 8, batch : 12 >> error : 0.009563384660702176\n",
            "epoch : 8, batch : 13 >> error : 0.009213062409816885\n",
            "epoch : 8, batch : 14 >> error : 0.010465149526767584\n",
            "epoch : 8, batch : 15 >> error : 0.00886968706464684\n",
            "epoch : 8, batch : 16 >> error : 0.008692643320843452\n",
            "epoch : 8, batch : 17 >> error : 0.010255517054439358\n",
            "epoch : 8, batch : 18 >> error : 0.009894996282646647\n",
            "epoch : 8, batch : 19 >> error : 0.008994520070968532\n",
            "epoch : 8, batch : 20 >> error : 0.010335617165676936\n",
            "epoch : 8, batch : 21 >> error : 0.0076163960809677855\n",
            "epoch : 8, batch : 22 >> error : 0.00895739418099986\n",
            "epoch : 8, batch : 23 >> error : 0.009395544599887767\n",
            "epoch : 8, batch : 24 >> error : 0.009446063480139499\n",
            "epoch : 8, batch : 25 >> error : 0.009882138742763126\n",
            "epoch : 8, batch : 26 >> error : 0.00852484548189461\n",
            "epoch : 8, batch : 27 >> error : 0.008960291466232322\n",
            "epoch : 8, batch : 28 >> error : 0.008689192694702658\n",
            "epoch : 8, batch : 29 >> error : 0.009683451025094165\n",
            "epoch : 8, batch : 30 >> error : 0.009349671921117722\n",
            "epoch : 8, batch : 31 >> error : 0.008127619375772012\n",
            "epoch : 8, batch : 32 >> error : 0.009070847219315174\n",
            "epoch : 8, batch : 33 >> error : 0.009476454740414546\n",
            "epoch : 8, batch : 34 >> error : 0.008102474102860958\n",
            "epoch : 8, batch : 35 >> error : 0.009156516386236477\n",
            "epoch : 8, batch : 36 >> error : 0.00959263787866198\n",
            "epoch : 8, batch : 37 >> error : 0.009062466697852338\n",
            "epoch : 9, batch : 0 >> error : 0.009133900949918505\n",
            "epoch : 9, batch : 1 >> error : 0.008377586828073278\n",
            "epoch : 9, batch : 2 >> error : 0.00935009014478695\n",
            "epoch : 9, batch : 3 >> error : 0.007603765132458737\n",
            "epoch : 9, batch : 4 >> error : 0.010308017152894908\n",
            "epoch : 9, batch : 5 >> error : 0.011440340795317963\n",
            "epoch : 9, batch : 6 >> error : 0.008931938080495699\n",
            "epoch : 9, batch : 7 >> error : 0.00919728378485486\n",
            "epoch : 9, batch : 8 >> error : 0.00997524758707759\n",
            "epoch : 9, batch : 9 >> error : 0.007788376688411362\n",
            "epoch : 9, batch : 10 >> error : 0.00887464739668925\n",
            "epoch : 9, batch : 11 >> error : 0.008778686260702922\n",
            "epoch : 9, batch : 12 >> error : 0.009543935226137348\n",
            "epoch : 9, batch : 13 >> error : 0.008837301102623912\n",
            "epoch : 9, batch : 14 >> error : 0.010481194052536417\n",
            "epoch : 9, batch : 15 >> error : 0.008742999421617879\n",
            "epoch : 9, batch : 16 >> error : 0.008721721112304012\n",
            "epoch : 9, batch : 17 >> error : 0.008239268569923148\n",
            "epoch : 9, batch : 18 >> error : 0.008550873310000024\n",
            "epoch : 9, batch : 19 >> error : 0.009132522745967158\n",
            "epoch : 9, batch : 20 >> error : 0.008271702863246\n",
            "epoch : 9, batch : 21 >> error : 0.008440615315348005\n",
            "epoch : 9, batch : 22 >> error : 0.009753111425559237\n",
            "epoch : 9, batch : 23 >> error : 0.009940212234931701\n",
            "epoch : 9, batch : 24 >> error : 0.009143183396821561\n",
            "epoch : 9, batch : 25 >> error : 0.008422178755534832\n",
            "epoch : 9, batch : 26 >> error : 0.0087859447503583\n",
            "epoch : 9, batch : 27 >> error : 0.00886065833415461\n",
            "epoch : 9, batch : 28 >> error : 0.008723778452931284\n",
            "epoch : 9, batch : 29 >> error : 0.00825014641559874\n",
            "epoch : 9, batch : 30 >> error : 0.0091309005012837\n",
            "epoch : 9, batch : 31 >> error : 0.010573617688328407\n",
            "epoch : 9, batch : 32 >> error : 0.009492789341630729\n",
            "epoch : 9, batch : 33 >> error : 0.008338262298469838\n",
            "epoch : 9, batch : 34 >> error : 0.008940372773450759\n",
            "epoch : 9, batch : 35 >> error : 0.009445896673309924\n",
            "epoch : 9, batch : 36 >> error : 0.008803617261543193\n",
            "epoch : 9, batch : 37 >> error : 0.008364275062160956\n",
            "epoch : 10, batch : 0 >> error : 0.009365983453082923\n",
            "epoch : 10, batch : 1 >> error : 0.0098467402005876\n",
            "epoch : 10, batch : 2 >> error : 0.009426613582415193\n",
            "epoch : 10, batch : 3 >> error : 0.009113880395355529\n",
            "epoch : 10, batch : 4 >> error : 0.008596659328133737\n",
            "epoch : 10, batch : 5 >> error : 0.008425664283463287\n",
            "epoch : 10, batch : 6 >> error : 0.008149749474056306\n",
            "epoch : 10, batch : 7 >> error : 0.00789111714824076\n",
            "epoch : 10, batch : 8 >> error : 0.009188991897271504\n",
            "epoch : 10, batch : 9 >> error : 0.008793512302781905\n",
            "epoch : 10, batch : 10 >> error : 0.010703760678389306\n",
            "epoch : 10, batch : 11 >> error : 0.010561765090960771\n",
            "epoch : 10, batch : 12 >> error : 0.008216172542140333\n",
            "epoch : 10, batch : 13 >> error : 0.008070875644344727\n",
            "epoch : 10, batch : 14 >> error : 0.009258741895187163\n",
            "epoch : 10, batch : 15 >> error : 0.009007314753756794\n",
            "epoch : 10, batch : 16 >> error : 0.008999046646417009\n",
            "epoch : 10, batch : 17 >> error : 0.00882217992241695\n",
            "epoch : 10, batch : 18 >> error : 0.009315484182157881\n",
            "epoch : 10, batch : 19 >> error : 0.008583351567597746\n",
            "epoch : 10, batch : 20 >> error : 0.009076718113764285\n",
            "epoch : 10, batch : 21 >> error : 0.009169541782092224\n",
            "epoch : 10, batch : 22 >> error : 0.00981187934385978\n",
            "epoch : 10, batch : 23 >> error : 0.009201581611052893\n",
            "epoch : 10, batch : 24 >> error : 0.009572489662278983\n",
            "epoch : 10, batch : 25 >> error : 0.008681099413547172\n",
            "epoch : 10, batch : 26 >> error : 0.008216781043280412\n",
            "epoch : 10, batch : 27 >> error : 0.008613173515401175\n",
            "epoch : 10, batch : 28 >> error : 0.008374395761811577\n",
            "epoch : 10, batch : 29 >> error : 0.008113834912910987\n",
            "epoch : 10, batch : 30 >> error : 0.009524803953295368\n",
            "epoch : 10, batch : 31 >> error : 0.008836133627343664\n",
            "epoch : 10, batch : 32 >> error : 0.008017117098111858\n",
            "epoch : 10, batch : 33 >> error : 0.009626205738051823\n",
            "epoch : 10, batch : 34 >> error : 0.008808099700393719\n",
            "epoch : 10, batch : 35 >> error : 0.009346757029017312\n",
            "epoch : 10, batch : 36 >> error : 0.009063721633499215\n",
            "epoch : 10, batch : 37 >> error : 0.0080694960960759\n",
            "epoch : 11, batch : 0 >> error : 0.008748377371024988\n",
            "epoch : 11, batch : 1 >> error : 0.008505725360779644\n",
            "epoch : 11, batch : 2 >> error : 0.008706527147041064\n",
            "epoch : 11, batch : 3 >> error : 0.009222872144648005\n",
            "epoch : 11, batch : 4 >> error : 0.008252302950249948\n",
            "epoch : 11, batch : 5 >> error : 0.008862591110030215\n",
            "epoch : 11, batch : 6 >> error : 0.009101676259349375\n",
            "epoch : 11, batch : 7 >> error : 0.010260937519055383\n",
            "epoch : 11, batch : 8 >> error : 0.009143582974361977\n",
            "epoch : 11, batch : 9 >> error : 0.008413260816749379\n",
            "epoch : 11, batch : 10 >> error : 0.007888395643641456\n",
            "epoch : 11, batch : 11 >> error : 0.009422417755339122\n",
            "epoch : 11, batch : 12 >> error : 0.008041849093642734\n",
            "epoch : 11, batch : 13 >> error : 0.009411608231971907\n",
            "epoch : 11, batch : 14 >> error : 0.009005253310655903\n",
            "epoch : 11, batch : 15 >> error : 0.008083981456823649\n",
            "epoch : 11, batch : 16 >> error : 0.009118229286805344\n",
            "epoch : 11, batch : 17 >> error : 0.008406325430615924\n",
            "epoch : 11, batch : 18 >> error : 0.00920395016613079\n",
            "epoch : 11, batch : 19 >> error : 0.009400566651222355\n",
            "epoch : 11, batch : 20 >> error : 0.008188905888420918\n",
            "epoch : 11, batch : 21 >> error : 0.008644129028325459\n",
            "epoch : 11, batch : 22 >> error : 0.009591735459782392\n",
            "epoch : 11, batch : 23 >> error : 0.00937245974650174\n",
            "epoch : 11, batch : 24 >> error : 0.008499947820501848\n",
            "epoch : 11, batch : 25 >> error : 0.007859949945575198\n",
            "epoch : 11, batch : 26 >> error : 0.010139022168150517\n",
            "epoch : 11, batch : 27 >> error : 0.010314077214325548\n",
            "epoch : 11, batch : 28 >> error : 0.009402207346511078\n",
            "epoch : 11, batch : 29 >> error : 0.008888086387941444\n",
            "epoch : 11, batch : 30 >> error : 0.00864028007798422\n",
            "epoch : 11, batch : 31 >> error : 0.00930885952134209\n",
            "epoch : 11, batch : 32 >> error : 0.008730128150471661\n",
            "epoch : 11, batch : 33 >> error : 0.010164303730263153\n",
            "epoch : 11, batch : 34 >> error : 0.009259143797301639\n",
            "epoch : 11, batch : 35 >> error : 0.007883665423876751\n",
            "epoch : 11, batch : 36 >> error : 0.008858954022159514\n",
            "epoch : 11, batch : 37 >> error : 0.008256575638085208\n",
            "epoch : 12, batch : 0 >> error : 0.008881628813210017\n",
            "epoch : 12, batch : 1 >> error : 0.00953725541400806\n",
            "epoch : 12, batch : 2 >> error : 0.008494940766568577\n",
            "epoch : 12, batch : 3 >> error : 0.010567258613883551\n",
            "epoch : 12, batch : 4 >> error : 0.009100746238085421\n",
            "epoch : 12, batch : 5 >> error : 0.007922477032967574\n",
            "epoch : 12, batch : 6 >> error : 0.008294714451462354\n",
            "epoch : 12, batch : 7 >> error : 0.008695566897144643\n",
            "epoch : 12, batch : 8 >> error : 0.007269571313912306\n",
            "epoch : 12, batch : 9 >> error : 0.009379388581308342\n",
            "epoch : 12, batch : 10 >> error : 0.008991322982031773\n",
            "epoch : 12, batch : 11 >> error : 0.009035223593385563\n",
            "epoch : 12, batch : 12 >> error : 0.010312022730408352\n",
            "epoch : 12, batch : 13 >> error : 0.008059859747695058\n",
            "epoch : 12, batch : 14 >> error : 0.00841698148263341\n",
            "epoch : 12, batch : 15 >> error : 0.008393833732245096\n",
            "epoch : 12, batch : 16 >> error : 0.009646443313663966\n",
            "epoch : 12, batch : 17 >> error : 0.00917945719258803\n",
            "epoch : 12, batch : 18 >> error : 0.009413664222466164\n",
            "epoch : 12, batch : 19 >> error : 0.009436767591835501\n",
            "epoch : 12, batch : 20 >> error : 0.009679823704021638\n",
            "epoch : 12, batch : 21 >> error : 0.008431102362720605\n",
            "epoch : 12, batch : 22 >> error : 0.008987747811846188\n",
            "epoch : 12, batch : 23 >> error : 0.009157347076611923\n",
            "epoch : 12, batch : 24 >> error : 0.00873860980000799\n",
            "epoch : 12, batch : 25 >> error : 0.008398291790243036\n",
            "epoch : 12, batch : 26 >> error : 0.008999148340730116\n",
            "epoch : 12, batch : 27 >> error : 0.008794560222242249\n",
            "epoch : 12, batch : 28 >> error : 0.009128508077177931\n",
            "epoch : 12, batch : 29 >> error : 0.008354487518752488\n",
            "epoch : 12, batch : 30 >> error : 0.008758396475447483\n",
            "epoch : 12, batch : 31 >> error : 0.008524290277307887\n",
            "epoch : 12, batch : 32 >> error : 0.009255303122662793\n",
            "epoch : 12, batch : 33 >> error : 0.009588173330045115\n",
            "epoch : 12, batch : 34 >> error : 0.009202639819757186\n",
            "epoch : 12, batch : 35 >> error : 0.00893157691227075\n",
            "epoch : 12, batch : 36 >> error : 0.0087435069837726\n",
            "epoch : 12, batch : 37 >> error : 0.007839753817978617\n",
            "epoch : 13, batch : 0 >> error : 0.008539321304719051\n",
            "epoch : 13, batch : 1 >> error : 0.008715938594822673\n",
            "epoch : 13, batch : 2 >> error : 0.008880699125136381\n",
            "epoch : 13, batch : 3 >> error : 0.009041297585117052\n",
            "epoch : 13, batch : 4 >> error : 0.009295601160208463\n",
            "epoch : 13, batch : 5 >> error : 0.009639050198391855\n",
            "epoch : 13, batch : 6 >> error : 0.009725084835377306\n",
            "epoch : 13, batch : 7 >> error : 0.008916925276857661\n",
            "epoch : 13, batch : 8 >> error : 0.008165382060485265\n",
            "epoch : 13, batch : 9 >> error : 0.009272523641453626\n",
            "epoch : 13, batch : 10 >> error : 0.008893331853231545\n",
            "epoch : 13, batch : 11 >> error : 0.008431083079909276\n",
            "epoch : 13, batch : 12 >> error : 0.009139999504180794\n",
            "epoch : 13, batch : 13 >> error : 0.00737842880395631\n",
            "epoch : 13, batch : 14 >> error : 0.009381196716054462\n",
            "epoch : 13, batch : 15 >> error : 0.008134786764813513\n",
            "epoch : 13, batch : 16 >> error : 0.008596708142396665\n",
            "epoch : 13, batch : 17 >> error : 0.00940390598129594\n",
            "epoch : 13, batch : 18 >> error : 0.008221148992220961\n",
            "epoch : 13, batch : 19 >> error : 0.007747584666585319\n",
            "epoch : 13, batch : 20 >> error : 0.00840848740769245\n",
            "epoch : 13, batch : 21 >> error : 0.008756882319576241\n",
            "epoch : 13, batch : 22 >> error : 0.009532158615897113\n",
            "epoch : 13, batch : 23 >> error : 0.00757930336307799\n",
            "epoch : 13, batch : 24 >> error : 0.009351263812572341\n",
            "epoch : 13, batch : 25 >> error : 0.007290331195038153\n",
            "epoch : 13, batch : 26 >> error : 0.008629952071820254\n",
            "epoch : 13, batch : 27 >> error : 0.008422587678124564\n",
            "epoch : 13, batch : 28 >> error : 0.008713250146488894\n",
            "epoch : 13, batch : 29 >> error : 0.009705606405295216\n",
            "epoch : 13, batch : 30 >> error : 0.009221012338171729\n",
            "epoch : 13, batch : 31 >> error : 0.008663120376245158\n",
            "epoch : 13, batch : 32 >> error : 0.0092443235739697\n",
            "epoch : 13, batch : 33 >> error : 0.008975688664327222\n",
            "epoch : 13, batch : 34 >> error : 0.010215561844128241\n",
            "epoch : 13, batch : 35 >> error : 0.00944594302547342\n",
            "epoch : 13, batch : 36 >> error : 0.010700799599058126\n",
            "epoch : 13, batch : 37 >> error : 0.010758585699020204\n",
            "epoch : 14, batch : 0 >> error : 0.009633352613050825\n",
            "epoch : 14, batch : 1 >> error : 0.00800406531178611\n",
            "epoch : 14, batch : 2 >> error : 0.00849189991545645\n",
            "epoch : 14, batch : 3 >> error : 0.009308592913395192\n",
            "epoch : 14, batch : 4 >> error : 0.008555537929300574\n",
            "epoch : 14, batch : 5 >> error : 0.008512262157730927\n",
            "epoch : 14, batch : 6 >> error : 0.009402932910360248\n",
            "epoch : 14, batch : 7 >> error : 0.009671990423798241\n",
            "epoch : 14, batch : 8 >> error : 0.00849107530403707\n",
            "epoch : 14, batch : 9 >> error : 0.009184708324532598\n",
            "epoch : 14, batch : 10 >> error : 0.009145816160545014\n",
            "epoch : 14, batch : 11 >> error : 0.008386641871816779\n",
            "epoch : 14, batch : 12 >> error : 0.008617398420034462\n",
            "epoch : 14, batch : 13 >> error : 0.009147184132887967\n",
            "epoch : 14, batch : 14 >> error : 0.010247215886182468\n",
            "epoch : 14, batch : 15 >> error : 0.008493958582867502\n",
            "epoch : 14, batch : 16 >> error : 0.009184256786633038\n",
            "epoch : 14, batch : 17 >> error : 0.008085686254241161\n",
            "epoch : 14, batch : 18 >> error : 0.008430412327532446\n",
            "epoch : 14, batch : 19 >> error : 0.00957679047924473\n",
            "epoch : 14, batch : 20 >> error : 0.009600913944813829\n",
            "epoch : 14, batch : 21 >> error : 0.008696386235524623\n",
            "epoch : 14, batch : 22 >> error : 0.008801121013851205\n",
            "epoch : 14, batch : 23 >> error : 0.00861803717130321\n",
            "epoch : 14, batch : 24 >> error : 0.009065049595543953\n",
            "epoch : 14, batch : 25 >> error : 0.008167772257874717\n",
            "epoch : 14, batch : 26 >> error : 0.008897124729344277\n",
            "epoch : 14, batch : 27 >> error : 0.009242120435673563\n",
            "epoch : 14, batch : 28 >> error : 0.008597299917973925\n",
            "epoch : 14, batch : 29 >> error : 0.008512785715237045\n",
            "epoch : 14, batch : 30 >> error : 0.010422596978299817\n",
            "epoch : 14, batch : 31 >> error : 0.010138272918844888\n",
            "epoch : 14, batch : 32 >> error : 0.008504809601549234\n",
            "epoch : 14, batch : 33 >> error : 0.009197602614647079\n",
            "epoch : 14, batch : 34 >> error : 0.008429873862508973\n",
            "epoch : 14, batch : 35 >> error : 0.008545488797766086\n",
            "epoch : 14, batch : 36 >> error : 0.008352683143654812\n",
            "epoch : 14, batch : 37 >> error : 0.00788078846939459\n",
            "epoch : 15, batch : 0 >> error : 0.00869568320677468\n",
            "epoch : 15, batch : 1 >> error : 0.008301647743371622\n",
            "epoch : 15, batch : 2 >> error : 0.008283474851202515\n",
            "epoch : 15, batch : 3 >> error : 0.007414075239416935\n",
            "epoch : 15, batch : 4 >> error : 0.008088596662429216\n",
            "epoch : 15, batch : 5 >> error : 0.009164714763554006\n",
            "epoch : 15, batch : 6 >> error : 0.009227281297740461\n",
            "epoch : 15, batch : 7 >> error : 0.008143225666709627\n",
            "epoch : 15, batch : 8 >> error : 0.008256554159426804\n",
            "epoch : 15, batch : 9 >> error : 0.008357145361287168\n",
            "epoch : 15, batch : 10 >> error : 0.008700547479363328\n",
            "epoch : 15, batch : 11 >> error : 0.008630422194971473\n",
            "epoch : 15, batch : 12 >> error : 0.008402724981207777\n",
            "epoch : 15, batch : 13 >> error : 0.00901824667190421\n",
            "epoch : 15, batch : 14 >> error : 0.010149203599960292\n",
            "epoch : 15, batch : 15 >> error : 0.010083356089899026\n",
            "epoch : 15, batch : 16 >> error : 0.009054894791710323\n",
            "epoch : 15, batch : 17 >> error : 0.009572919201137538\n",
            "epoch : 15, batch : 18 >> error : 0.010409054166516359\n",
            "epoch : 15, batch : 19 >> error : 0.008289612304813886\n",
            "epoch : 15, batch : 20 >> error : 0.008722430736439373\n",
            "epoch : 15, batch : 21 >> error : 0.010155851900777649\n",
            "epoch : 15, batch : 22 >> error : 0.010306546967100861\n",
            "epoch : 15, batch : 23 >> error : 0.00872603032710597\n",
            "epoch : 15, batch : 24 >> error : 0.008513519178853965\n",
            "epoch : 15, batch : 25 >> error : 0.009029651535199572\n",
            "epoch : 15, batch : 26 >> error : 0.008625951414945281\n",
            "epoch : 15, batch : 27 >> error : 0.00825746946128281\n",
            "epoch : 15, batch : 28 >> error : 0.009032585584787124\n",
            "epoch : 15, batch : 29 >> error : 0.009387708012177318\n",
            "epoch : 15, batch : 30 >> error : 0.00900020604866213\n",
            "epoch : 15, batch : 31 >> error : 0.008406406993756797\n",
            "epoch : 15, batch : 32 >> error : 0.009221135754874227\n",
            "epoch : 15, batch : 33 >> error : 0.009440962117994178\n",
            "epoch : 15, batch : 34 >> error : 0.007425871466415546\n",
            "epoch : 15, batch : 35 >> error : 0.008556467258869252\n",
            "epoch : 15, batch : 36 >> error : 0.00905297720959345\n",
            "epoch : 15, batch : 37 >> error : 0.010948912986985396\n",
            "epoch : 16, batch : 0 >> error : 0.008445295282994945\n",
            "epoch : 16, batch : 1 >> error : 0.008701475241915798\n",
            "epoch : 16, batch : 2 >> error : 0.008877029571922143\n",
            "epoch : 16, batch : 3 >> error : 0.009138890022967142\n",
            "epoch : 16, batch : 4 >> error : 0.009030502923969213\n",
            "epoch : 16, batch : 5 >> error : 0.008487262296722514\n",
            "epoch : 16, batch : 6 >> error : 0.009286923594001238\n",
            "epoch : 16, batch : 7 >> error : 0.007708826211524891\n",
            "epoch : 16, batch : 8 >> error : 0.00877924207755689\n",
            "epoch : 16, batch : 9 >> error : 0.008976565784630006\n",
            "epoch : 16, batch : 10 >> error : 0.009275687504758214\n",
            "epoch : 16, batch : 11 >> error : 0.008285507435600994\n",
            "epoch : 16, batch : 12 >> error : 0.009672426059441552\n",
            "epoch : 16, batch : 13 >> error : 0.009458175235688399\n",
            "epoch : 16, batch : 14 >> error : 0.010541481719978962\n",
            "epoch : 16, batch : 15 >> error : 0.009493426367635\n",
            "epoch : 16, batch : 16 >> error : 0.009283122231822065\n",
            "epoch : 16, batch : 17 >> error : 0.008930688695057459\n",
            "epoch : 16, batch : 18 >> error : 0.008460137117224204\n",
            "epoch : 16, batch : 19 >> error : 0.009228381500027557\n",
            "epoch : 16, batch : 20 >> error : 0.008013636400000263\n",
            "epoch : 16, batch : 21 >> error : 0.009409515842469568\n",
            "epoch : 16, batch : 22 >> error : 0.009383176604789293\n",
            "epoch : 16, batch : 23 >> error : 0.007868774496927201\n",
            "epoch : 16, batch : 24 >> error : 0.009359320221348699\n",
            "epoch : 16, batch : 25 >> error : 0.008629723858458081\n",
            "epoch : 16, batch : 26 >> error : 0.008091223754539818\n",
            "epoch : 16, batch : 27 >> error : 0.00926814550073685\n",
            "epoch : 16, batch : 28 >> error : 0.007744392651479532\n",
            "epoch : 16, batch : 29 >> error : 0.009568319856757199\n",
            "epoch : 16, batch : 30 >> error : 0.010094226227326407\n",
            "epoch : 16, batch : 31 >> error : 0.009688544525023626\n",
            "epoch : 16, batch : 32 >> error : 0.0089815844739614\n",
            "epoch : 16, batch : 33 >> error : 0.007954823938625214\n",
            "epoch : 16, batch : 34 >> error : 0.00868492800010989\n",
            "epoch : 16, batch : 35 >> error : 0.008750453082561163\n",
            "epoch : 16, batch : 36 >> error : 0.008221233016435838\n",
            "epoch : 16, batch : 37 >> error : 0.008626002853382941\n",
            "epoch : 17, batch : 0 >> error : 0.009257683575330437\n",
            "epoch : 17, batch : 1 >> error : 0.00926844291387187\n",
            "epoch : 17, batch : 2 >> error : 0.009915231468548079\n",
            "epoch : 17, batch : 3 >> error : 0.00850498113884587\n",
            "epoch : 17, batch : 4 >> error : 0.00802659914452181\n",
            "epoch : 17, batch : 5 >> error : 0.007841774593510755\n",
            "epoch : 17, batch : 6 >> error : 0.009230218785531156\n",
            "epoch : 17, batch : 7 >> error : 0.008351104050346817\n",
            "epoch : 17, batch : 8 >> error : 0.008904687374449157\n",
            "epoch : 17, batch : 9 >> error : 0.008897698826566613\n",
            "epoch : 17, batch : 10 >> error : 0.009214272097720213\n",
            "epoch : 17, batch : 11 >> error : 0.00998147536816641\n",
            "epoch : 17, batch : 12 >> error : 0.008539607460302225\n",
            "epoch : 17, batch : 13 >> error : 0.007812675287541856\n",
            "epoch : 17, batch : 14 >> error : 0.009167104663075657\n",
            "epoch : 17, batch : 15 >> error : 0.00969795932570598\n",
            "epoch : 17, batch : 16 >> error : 0.008617956239798979\n",
            "epoch : 17, batch : 17 >> error : 0.010830908884171892\n",
            "epoch : 17, batch : 18 >> error : 0.009711142920336258\n",
            "epoch : 17, batch : 19 >> error : 0.007847370559108705\n",
            "epoch : 17, batch : 20 >> error : 0.007202077097023217\n",
            "epoch : 17, batch : 21 >> error : 0.011042397334663341\n",
            "epoch : 17, batch : 22 >> error : 0.009087270086201603\n",
            "epoch : 17, batch : 23 >> error : 0.008208674849684012\n",
            "epoch : 17, batch : 24 >> error : 0.00832795784360606\n",
            "epoch : 17, batch : 25 >> error : 0.00843125513083058\n",
            "epoch : 17, batch : 26 >> error : 0.009061128246667653\n",
            "epoch : 17, batch : 27 >> error : 0.009015494704596285\n",
            "epoch : 17, batch : 28 >> error : 0.008536202601258933\n",
            "epoch : 17, batch : 29 >> error : 0.008986021893098002\n",
            "epoch : 17, batch : 30 >> error : 0.009483158478765585\n",
            "epoch : 17, batch : 31 >> error : 0.008730848466799388\n",
            "epoch : 17, batch : 32 >> error : 0.008752598972223687\n",
            "epoch : 17, batch : 33 >> error : 0.007165996938781734\n",
            "epoch : 17, batch : 34 >> error : 0.00969794602507751\n",
            "epoch : 17, batch : 35 >> error : 0.009674058014319791\n",
            "epoch : 17, batch : 36 >> error : 0.00846293536605506\n",
            "epoch : 17, batch : 37 >> error : 0.009006912587645268\n",
            "epoch : 18, batch : 0 >> error : 0.00876029229260352\n",
            "epoch : 18, batch : 1 >> error : 0.008843730807654871\n",
            "epoch : 18, batch : 2 >> error : 0.010169566324229195\n",
            "epoch : 18, batch : 3 >> error : 0.010504849142718315\n",
            "epoch : 18, batch : 4 >> error : 0.009645572276971031\n",
            "epoch : 18, batch : 5 >> error : 0.009623597767953502\n",
            "epoch : 18, batch : 6 >> error : 0.007730215696628268\n",
            "epoch : 18, batch : 7 >> error : 0.00878732151358785\n",
            "epoch : 18, batch : 8 >> error : 0.008833971397535527\n",
            "epoch : 18, batch : 9 >> error : 0.008557860660980517\n",
            "epoch : 18, batch : 10 >> error : 0.007501821200443358\n",
            "epoch : 18, batch : 11 >> error : 0.01012253189681272\n",
            "epoch : 18, batch : 12 >> error : 0.009404976674154367\n",
            "epoch : 18, batch : 13 >> error : 0.009368026362806998\n",
            "epoch : 18, batch : 14 >> error : 0.007605850184564817\n",
            "epoch : 18, batch : 15 >> error : 0.010173045984544911\n",
            "epoch : 18, batch : 16 >> error : 0.010108976444458944\n",
            "epoch : 18, batch : 17 >> error : 0.008623205833982553\n",
            "epoch : 18, batch : 18 >> error : 0.00797010985622328\n",
            "epoch : 18, batch : 19 >> error : 0.009095226245134529\n",
            "epoch : 18, batch : 20 >> error : 0.008603543992073755\n",
            "epoch : 18, batch : 21 >> error : 0.008968121692885892\n",
            "epoch : 18, batch : 22 >> error : 0.008684216723833725\n",
            "epoch : 18, batch : 23 >> error : 0.008662111513395795\n",
            "epoch : 18, batch : 24 >> error : 0.008664548732085473\n",
            "epoch : 18, batch : 25 >> error : 0.009114009478113803\n",
            "epoch : 18, batch : 26 >> error : 0.008274932080586836\n",
            "epoch : 18, batch : 27 >> error : 0.007861101641987589\n",
            "epoch : 18, batch : 28 >> error : 0.008014369709694665\n",
            "epoch : 18, batch : 29 >> error : 0.008489514090452609\n",
            "epoch : 18, batch : 30 >> error : 0.010315370314059012\n",
            "epoch : 18, batch : 31 >> error : 0.009191719638038484\n",
            "epoch : 18, batch : 32 >> error : 0.009339032017111837\n",
            "epoch : 18, batch : 33 >> error : 0.008344641023950586\n",
            "epoch : 18, batch : 34 >> error : 0.009038189102951896\n",
            "epoch : 18, batch : 35 >> error : 0.008161253866922402\n",
            "epoch : 18, batch : 36 >> error : 0.008382916655455826\n",
            "epoch : 18, batch : 37 >> error : 0.00892057180846478\n",
            "epoch : 19, batch : 0 >> error : 0.009958174110757065\n",
            "epoch : 19, batch : 1 >> error : 0.00977675796540466\n",
            "epoch : 19, batch : 2 >> error : 0.008209739357201512\n",
            "epoch : 19, batch : 3 >> error : 0.008774781159297973\n",
            "epoch : 19, batch : 4 >> error : 0.009852999899099555\n",
            "epoch : 19, batch : 5 >> error : 0.008104416136287606\n",
            "epoch : 19, batch : 6 >> error : 0.009490632248907086\n",
            "epoch : 19, batch : 7 >> error : 0.00871657827048537\n",
            "epoch : 19, batch : 8 >> error : 0.0075352127197953304\n",
            "epoch : 19, batch : 9 >> error : 0.008978241138976288\n",
            "epoch : 19, batch : 10 >> error : 0.007839591184488957\n",
            "epoch : 19, batch : 11 >> error : 0.008505381246527109\n",
            "epoch : 19, batch : 12 >> error : 0.00946296801103722\n",
            "epoch : 19, batch : 13 >> error : 0.009284482718398364\n",
            "epoch : 19, batch : 14 >> error : 0.008475024616240525\n",
            "epoch : 19, batch : 15 >> error : 0.00872089552510284\n",
            "epoch : 19, batch : 16 >> error : 0.008645903150217285\n",
            "epoch : 19, batch : 17 >> error : 0.009441938594661931\n",
            "epoch : 19, batch : 18 >> error : 0.009555239459463821\n",
            "epoch : 19, batch : 19 >> error : 0.008820677865938004\n",
            "epoch : 19, batch : 20 >> error : 0.00795899490409336\n",
            "epoch : 19, batch : 21 >> error : 0.009351077530236125\n",
            "epoch : 19, batch : 22 >> error : 0.009911942355945402\n",
            "epoch : 19, batch : 23 >> error : 0.008013652522237468\n",
            "epoch : 19, batch : 24 >> error : 0.00947580311444884\n",
            "epoch : 19, batch : 25 >> error : 0.008514316043462344\n",
            "epoch : 19, batch : 26 >> error : 0.009526083816933385\n",
            "epoch : 19, batch : 27 >> error : 0.007500581875763161\n",
            "epoch : 19, batch : 28 >> error : 0.00825106717933209\n",
            "epoch : 19, batch : 29 >> error : 0.008906870615609139\n",
            "epoch : 19, batch : 30 >> error : 0.008961347703550317\n",
            "epoch : 19, batch : 31 >> error : 0.008639579176082263\n",
            "epoch : 19, batch : 32 >> error : 0.007556462336194278\n",
            "epoch : 19, batch : 33 >> error : 0.009585007150929876\n",
            "epoch : 19, batch : 34 >> error : 0.009472831082595072\n",
            "epoch : 19, batch : 35 >> error : 0.00923656914797726\n",
            "epoch : 19, batch : 36 >> error : 0.0103412053521798\n",
            "epoch : 19, batch : 37 >> error : 0.009183747847483891\n"
          ],
          "name": "stdout"
        }
      ]
    },
    {
      "cell_type": "code",
      "metadata": {
        "colab": {
          "base_uri": "https://localhost:8080/"
        },
        "id": "zbKILrdkl1ep",
        "outputId": "dcad6598-18c3-4739-c0dd-43cec3ab612e"
      },
      "source": [
        "print(m,c)"
      ],
      "execution_count": 41,
      "outputs": [
        {
          "output_type": "stream",
          "text": [
            "0.638203765619481 0.0637258833240013\n"
          ],
          "name": "stdout"
        }
      ]
    },
    {
      "cell_type": "code",
      "metadata": {
        "colab": {
          "base_uri": "https://localhost:8080/",
          "height": 312
        },
        "id": "gE4YzVnul--E",
        "outputId": "8b67bf4f-52cb-4872-cc7a-aa76875ea91e"
      },
      "source": [
        "x1 = range(epochs*(number_of_batches+1))\n",
        "y1 = error_list\n",
        "\n",
        "plt.plot(x1,y1)\n",
        "plt.xlabel(\"number of updations\")\n",
        "plt.ylabel(\"error\")\n",
        "plt.title(\"error graph in case of Mini Batch GD\")"
      ],
      "execution_count": 42,
      "outputs": [
        {
          "output_type": "execute_result",
          "data": {
            "text/plain": [
              "Text(0.5, 1.0, 'error graph in case of Mini Batch GD')"
            ]
          },
          "metadata": {
            "tags": []
          },
          "execution_count": 42
        },
        {
          "output_type": "display_data",
          "data": {
            "image/png": "[encoded data removed]",
            "text/plain": [
              "<Figure size 432x288 with 1 Axes>"
            ]
          },
          "metadata": {
            "tags": [],
            "needs_background": "light"
          }
        }
      ]
    },
    {
      "cell_type": "code",
      "metadata": {
        "colab": {
          "base_uri": "https://localhost:8080/",
          "height": 298
        },
        "id": "U7A6GDUDmLsw",
        "outputId": "2345a39c-fc44-4a70-935d-76d9e385b95e"
      },
      "source": [
        "x2 = [a[0] for a in cleaned_data_test]\n",
        "y2 = [m*i+c for i in x2]\n",
        "\n",
        "x1 = [a[0] for a in cleaned_data_test]\n",
        "y1 = [a[1] for a in cleaned_data_test]\n",
        "\n",
        "plt.plot(x2,y2)\n",
        "\n",
        "plt.scatter(x1,y1)\n",
        "\n",
        "plt.title(\"line which is generated after training\")"
      ],
      "execution_count": 43,
      "outputs": [
        {
          "output_type": "execute_result",
          "data": {
            "text/plain": [
              "Text(0.5, 1.0, 'line which is generated after training')"
            ]
          },
          "metadata": {
            "tags": []
          },
          "execution_count": 43
        },
        {
          "output_type": "display_data",
          "data": {
            "image/png": "[encoded data removed]",
            "text/plain": [
              "<Figure size 432x288 with 1 Axes>"
            ]
          },
          "metadata": {
            "tags": [],
            "needs_background": "light"
          }
        }
      ]
    },
    {
      "cell_type": "code",
      "metadata": {
        "colab": {
          "base_uri": "https://localhost:8080/"
        },
        "id": "2XYor_xRmW0o",
        "outputId": "299e9370-c99f-4f49-f2b2-74ceccbd1291"
      },
      "source": [
        "train_error = error(cleaned_data_train,m,c)\n",
        "test_error = error(cleaned_data_test,m,c)\n",
        "\n",
        "print(\"train error is : \",train_error)\n",
        "print(\"test error is : \",test_error)"
      ],
      "execution_count": 44,
      "outputs": [
        {
          "output_type": "stream",
          "text": [
            "train error is :  0.008906998036645204\n",
            "test error is :  0.008510801762732343\n"
          ],
          "name": "stdout"
        }
      ]
    },
    {
      "cell_type": "code",
      "metadata": {
        "colab": {
          "base_uri": "https://localhost:8080/"
        },
        "id": "dUbzVX2pmpl2",
        "outputId": "afb94089-409b-4120-fa5e-f658a74578ce"
      },
      "source": [
        "input_area = int(input(\"enter the input area : \"))\n",
        "\n",
        "max_price = 7.700000e+06\n",
        "min_price = 7.500000e+04\n",
        "\n",
        "max_area = 13540.000000\n",
        "min_area = 290.000000\n",
        "\n",
        "input_area = (input_area - min_area)/(max_area-min_area)\n",
        "output_price = input_area*m+c\n",
        "\n",
        "output_price = output_price*(max_price-min_price)+min_price\n",
        "\n",
        "print(\"predicted house price is : \",output_price)"
      ],
      "execution_count": 45,
      "outputs": [
        {
          "output_type": "stream",
          "text": [
            "enter the input area : 1125\n",
            "predicted house price is :  867578.8113061539\n"
          ],
          "name": "stdout"
        }
      ]
    }
  ]
}