{
  "nbformat": 4,
  "nbformat_minor": 0,
  "metadata": {
    "colab": {
      "name": "ASSIGNMENT-10",
      "provenance": []
    },
    "kernelspec": {
      "name": "python3",
      "display_name": "Python 3"
    },
    "language_info": {
      "name": "python"
    }
  },
  "cells": [
    {
      "cell_type": "code",
      "metadata": {
        "id": "mvPxHeKUGETU"
      },
      "source": [
        "import pandas as pd\n",
        "import numpy as np\n",
        "import math\n",
        "import random\n",
        "import matplotlib.pyplot as plt\n",
        "from random import shuffle\n",
        "from sklearn.preprocessing import minmax_scale\n",
        "from sklearn.model_selection import train_test_split"
      ],
      "execution_count": null,
      "outputs": []
    },
    {
      "cell_type": "code",
      "metadata": {
        "id": "mzuXxUmLGleG",
        "colab": {
          "base_uri": "https://localhost:8080/",
          "height": 195
        },
        "outputId": "f44eb10c-18c1-4895-e9c9-d0945d05e972"
      },
      "source": [
        "load_data = pd.read_excel(\"/content/Load Data in kW (2).xlsx\")\n",
        "load_data.head()"
      ],
      "execution_count": null,
      "outputs": [
        {
          "output_type": "execute_result",
          "data": {
            "text/html": [
              "<div>\n",
              "<style scoped>\n",
              "    .dataframe tbody tr th:only-of-type {\n",
              "        vertical-align: middle;\n",
              "    }\n",
              "\n",
              "    .dataframe tbody tr th {\n",
              "        vertical-align: top;\n",
              "    }\n",
              "\n",
              "    .dataframe thead th {\n",
              "        text-align: right;\n",
              "    }\n",
              "</style>\n",
              "<table border=\"1\" class=\"dataframe\">\n",
              "  <thead>\n",
              "    <tr style=\"text-align: right;\">\n",
              "      <th></th>\n",
              "      <th>5551.82208</th>\n",
              "    </tr>\n",
              "  </thead>\n",
              "  <tbody>\n",
              "    <tr>\n",
              "      <th>0</th>\n",
              "      <td>4983.17184</td>\n",
              "    </tr>\n",
              "    <tr>\n",
              "      <th>1</th>\n",
              "      <td>4888.39680</td>\n",
              "    </tr>\n",
              "    <tr>\n",
              "      <th>2</th>\n",
              "      <td>5072.95872</td>\n",
              "    </tr>\n",
              "    <tr>\n",
              "      <th>3</th>\n",
              "      <td>5196.25980</td>\n",
              "    </tr>\n",
              "    <tr>\n",
              "      <th>4</th>\n",
              "      <td>5641.29720</td>\n",
              "    </tr>\n",
              "  </tbody>\n",
              "</table>\n",
              "</div>"
            ],
            "text/plain": [
              "   5551.82208\n",
              "0  4983.17184\n",
              "1  4888.39680\n",
              "2  5072.95872\n",
              "3  5196.25980\n",
              "4  5641.29720"
            ]
          },
          "metadata": {
            "tags": []
          },
          "execution_count": 8
        }
      ]
    },
    {
      "cell_type": "code",
      "metadata": {
        "colab": {
          "base_uri": "https://localhost:8080/",
          "height": 284
        },
        "id": "SLh-coboHygH",
        "outputId": "15923816-012c-4d5b-9f91-fe3d81d9c914"
      },
      "source": [
        "load_data.describe()"
      ],
      "execution_count": null,
      "outputs": [
        {
          "output_type": "execute_result",
          "data": {
            "text/html": [
              "<div>\n",
              "<style scoped>\n",
              "    .dataframe tbody tr th:only-of-type {\n",
              "        vertical-align: middle;\n",
              "    }\n",
              "\n",
              "    .dataframe tbody tr th {\n",
              "        vertical-align: top;\n",
              "    }\n",
              "\n",
              "    .dataframe thead th {\n",
              "        text-align: right;\n",
              "    }\n",
              "</style>\n",
              "<table border=\"1\" class=\"dataframe\">\n",
              "  <thead>\n",
              "    <tr style=\"text-align: right;\">\n",
              "      <th></th>\n",
              "      <th>5551.82208</th>\n",
              "    </tr>\n",
              "  </thead>\n",
              "  <tbody>\n",
              "    <tr>\n",
              "      <th>count</th>\n",
              "      <td>2183.000000</td>\n",
              "    </tr>\n",
              "    <tr>\n",
              "      <th>mean</th>\n",
              "      <td>6393.616060</td>\n",
              "    </tr>\n",
              "    <tr>\n",
              "      <th>std</th>\n",
              "      <td>17143.020064</td>\n",
              "    </tr>\n",
              "    <tr>\n",
              "      <th>min</th>\n",
              "      <td>3377.919600</td>\n",
              "    </tr>\n",
              "    <tr>\n",
              "      <th>25%</th>\n",
              "      <td>5257.520640</td>\n",
              "    </tr>\n",
              "    <tr>\n",
              "      <th>50%</th>\n",
              "      <td>5935.910400</td>\n",
              "    </tr>\n",
              "    <tr>\n",
              "      <th>75%</th>\n",
              "      <td>6738.692400</td>\n",
              "    </tr>\n",
              "    <tr>\n",
              "      <th>max</th>\n",
              "      <td>805444.430400</td>\n",
              "    </tr>\n",
              "  </tbody>\n",
              "</table>\n",
              "</div>"
            ],
            "text/plain": [
              "          5551.82208\n",
              "count    2183.000000\n",
              "mean     6393.616060\n",
              "std     17143.020064\n",
              "min      3377.919600\n",
              "25%      5257.520640\n",
              "50%      5935.910400\n",
              "75%      6738.692400\n",
              "max    805444.430400"
            ]
          },
          "metadata": {
            "tags": []
          },
          "execution_count": 9
        }
      ]
    },
    {
      "cell_type": "code",
      "metadata": {
        "colab": {
          "base_uri": "https://localhost:8080/"
        },
        "id": "3N0mCV6VH2Es",
        "outputId": "aba54a5e-f08b-419c-a0bd-42789476a65d"
      },
      "source": [
        "load_data.info()"
      ],
      "execution_count": null,
      "outputs": [
        {
          "output_type": "stream",
          "text": [
            "<class 'pandas.core.frame.DataFrame'>\n",
            "RangeIndex: 2183 entries, 0 to 2182\n",
            "Data columns (total 1 columns):\n",
            " #   Column      Non-Null Count  Dtype  \n",
            "---  ------      --------------  -----  \n",
            " 0   5551.82208  2183 non-null   float64\n",
            "dtypes: float64(1)\n",
            "memory usage: 17.2 KB\n"
          ],
          "name": "stdout"
        }
      ]
    },
    {
      "cell_type": "code",
      "metadata": {
        "colab": {
          "base_uri": "https://localhost:8080/",
          "height": 399
        },
        "id": "DslZ-lYrH-9Y",
        "outputId": "045d9dd6-a1d9-4502-fc2f-6b68bffbefb5"
      },
      "source": [
        "plt.boxplot(load_data.iloc[:,0])"
      ],
      "execution_count": null,
      "outputs": [
        {
          "output_type": "execute_result",
          "data": {
            "text/plain": [
              "{'boxes': [<matplotlib.lines.Line2D at 0x7fd8453e96d0>],\n",
              " 'caps': [<matplotlib.lines.Line2D at 0x7fd845401310>,\n",
              "  <matplotlib.lines.Line2D at 0x7fd845401b50>],\n",
              " 'fliers': [<matplotlib.lines.Line2D at 0x7fd845393510>],\n",
              " 'means': [],\n",
              " 'medians': [<matplotlib.lines.Line2D at 0x7fd845393a50>],\n",
              " 'whiskers': [<matplotlib.lines.Line2D at 0x7fd8453fe290>,\n",
              "  <matplotlib.lines.Line2D at 0x7fd8453feb10>]}"
            ]
          },
          "metadata": {
            "tags": []
          },
          "execution_count": 11
        },
        {
          "output_type": "display_data",
          "data": {
            "image/png": "[encoded data removed]",
            "text/plain": [
              "<Figure size 432x288 with 1 Axes>"
            ]
          },
          "metadata": {
            "tags": [],
            "needs_background": "light"
          }
        }
      ]
    },
    {
      "cell_type": "code",
      "metadata": {
        "colab": {
          "base_uri": "https://localhost:8080/"
        },
        "id": "Po_s161RIIxU",
        "outputId": "b5bd81db-fdd7-49f5-a86b-6697623f2845"
      },
      "source": [
        "from scipy import stats\n",
        "\n",
        "z = np.abs(stats.zscore(load_data.iloc[:,0]))\n",
        "\n",
        "threshold = 3\n",
        "print(np.where(z > 3))"
      ],
      "execution_count": null,
      "outputs": [
        {
          "output_type": "stream",
          "text": [
            "(array([928]),)\n"
          ],
          "name": "stdout"
        }
      ]
    },
    {
      "cell_type": "code",
      "metadata": {
        "id": "3uWyWWMaIR01"
      },
      "source": [
        "load_data.iloc[928,0] = load_data.iloc[927,0]"
      ],
      "execution_count": null,
      "outputs": []
    },
    {
      "cell_type": "code",
      "metadata": {
        "colab": {
          "base_uri": "https://localhost:8080/",
          "height": 399
        },
        "id": "9yX1z3uCItM9",
        "outputId": "4aa09628-66e8-4a2e-83f7-e6f7ed9788d0"
      },
      "source": [
        "plt.boxplot(load_data.iloc[:,0])"
      ],
      "execution_count": null,
      "outputs": [
        {
          "output_type": "execute_result",
          "data": {
            "text/plain": [
              "{'boxes': [<matplotlib.lines.Line2D at 0x7fd844e734d0>],\n",
              " 'caps': [<matplotlib.lines.Line2D at 0x7fd844e78510>,\n",
              "  <matplotlib.lines.Line2D at 0x7fd844e78a50>],\n",
              " 'fliers': [<matplotlib.lines.Line2D at 0x7fd844e7e550>],\n",
              " 'means': [],\n",
              " 'medians': [<matplotlib.lines.Line2D at 0x7fd844e78fd0>],\n",
              " 'whiskers': [<matplotlib.lines.Line2D at 0x7fd844e73a50>,\n",
              "  <matplotlib.lines.Line2D at 0x7fd844e73f90>]}"
            ]
          },
          "metadata": {
            "tags": []
          },
          "execution_count": 14
        },
        {
          "output_type": "display_data",
          "data": {
            "image/png": "[encoded data removed]",
            "text/plain": [
              "<Figure size 432x288 with 1 Axes>"
            ]
          },
          "metadata": {
            "tags": [],
            "needs_background": "light"
          }
        }
      ]
    },
    {
      "cell_type": "code",
      "metadata": {
        "id": "Amt0PYzKIvlg"
      },
      "source": [
        "x = []\n",
        "y = []\n",
        "for i in range(len(load_data.iloc[:,0])-24):\n",
        "  x.append(load_data.iloc[i,0])\n",
        "  y.append(load_data.iloc[i+24,0])"
      ],
      "execution_count": null,
      "outputs": []
    },
    {
      "cell_type": "code",
      "metadata": {
        "colab": {
          "base_uri": "https://localhost:8080/",
          "height": 282
        },
        "id": "Vh3y91WqI8z3",
        "outputId": "acefc082-a73f-446b-89c4-c82f99f933e0"
      },
      "source": [
        "plt.scatter(x,y)"
      ],
      "execution_count": null,
      "outputs": [
        {
          "output_type": "execute_result",
          "data": {
            "text/plain": [
              "<matplotlib.collections.PathCollection at 0x7fd844d9e950>"
            ]
          },
          "metadata": {
            "tags": []
          },
          "execution_count": 16
        },
        {
          "output_type": "display_data",
          "data": {
            "image/png": "[encoded data removed]",
            "text/plain": [
              "<Figure size 432x288 with 1 Axes>"
            ]
          },
          "metadata": {
            "tags": [],
            "needs_background": "light"
          }
        }
      ]
    },
    {
      "cell_type": "code",
      "metadata": {
        "id": "UDoYHA8jI_hg"
      },
      "source": [
        "def error(d,m,c):\n",
        "  sum = 0\n",
        "  for i in range(len(d)):\n",
        "    sum = sum + math.pow(d[i][1]-m*d[i][0]-c,2)\n",
        "  return 0.5*sum/len(d)\n",
        "\n",
        "def gradm(d,m,c):\n",
        "  sum = 0\n",
        "  for i in range(len(d)):\n",
        "    sum = sum + (d[i][1]-m*d[i][0]-c)*d[i][0]\n",
        "  return -1*sum/len(d)\n",
        "\n",
        "def gradc(d,m,c):\n",
        "  sum = 0\n",
        "  for i in range(len(d)):\n",
        "    sum = sum + (d[i][1]-m*d[i][0]-c)\n",
        "  return -1*sum/len(d)"
      ],
      "execution_count": null,
      "outputs": []
    },
    {
      "cell_type": "code",
      "metadata": {
        "id": "Lm6-TzPnJQyF"
      },
      "source": [
        "learning_rate = 0.01\n",
        "epochs = 20\n",
        "\n",
        "m = 1\n",
        "c = 1\n",
        "\n",
        "v_m = 0\n",
        "v_c = 0\n",
        "momentum_coeff = 0.9\n",
        "\n",
        "batch_size = 500"
      ],
      "execution_count": null,
      "outputs": []
    },
    {
      "cell_type": "code",
      "metadata": {
        "id": "xD5mdQlLJT3O"
      },
      "source": [
        "x = minmax_scale(x)\n",
        "y = minmax_scale(y)"
      ],
      "execution_count": null,
      "outputs": []
    },
    {
      "cell_type": "code",
      "metadata": {
        "colab": {
          "base_uri": "https://localhost:8080/"
        },
        "id": "cE5jL6RXJdh8",
        "outputId": "2cc12d66-8f73-416a-f50f-0cbe27691a1f"
      },
      "source": [
        "data = []\n",
        "\n",
        "for i in range(0,2159):\n",
        "  data.append((x[i],y[i]))\n",
        "\n",
        "print(len(data))\n",
        "\n",
        "data_train,data_test = train_test_split(data,test_size=0.1)\n",
        "\n",
        "len(data_train)"
      ],
      "execution_count": null,
      "outputs": [
        {
          "output_type": "stream",
          "text": [
            "2159\n"
          ],
          "name": "stdout"
        },
        {
          "output_type": "execute_result",
          "data": {
            "text/plain": [
              "1943"
            ]
          },
          "metadata": {
            "tags": []
          },
          "execution_count": 20
        }
      ]
    },
    {
      "cell_type": "code",
      "metadata": {
        "colab": {
          "base_uri": "https://localhost:8080/"
        },
        "id": "0vQo1rDZLc5r",
        "outputId": "9fe13624-d190-4b3b-fdd6-2bfe38d5d994"
      },
      "source": [
        "error_list = []\n",
        "number_of_batches = (len(data_train)//batch_size)\n",
        "for i in range(epochs):\n",
        "  for j in range(number_of_batches+1):\n",
        "    if j == number_of_batches:\n",
        "      d = data_train[j*batch_size:]\n",
        "    else:\n",
        "      d = data_train[j*batch_size:(j+1)*batch_size]\n",
        "\n",
        "    deltam = -1*learning_rate*gradm(d,m,c)\n",
        "    deltac = -1*learning_rate*gradc(d,m,c)\n",
        "\n",
        "    v_m = v_m*momentum_coeff + deltam\n",
        "    v_c = v_c*momentum_coeff + deltac\n",
        "\n",
        "    m = m + v_m\n",
        "    c = c + v_c\n",
        "\n",
        "    print(\"epoch {}, batch {}, error {}\".format(i,j,error(d,m,c)))\n",
        "    error_list.append(error(d,m,c))\n",
        "  random.shuffle(data_train)"
      ],
      "execution_count": null,
      "outputs": [
        {
          "output_type": "stream",
          "text": [
            "epoch 0, batch 0, error 0.499271752838517\n",
            "epoch 0, batch 1, error 0.4705940954761842\n",
            "epoch 0, batch 2, error 0.4445749147482083\n",
            "epoch 0, batch 3, error 0.40636705073102586\n",
            "epoch 1, batch 0, error 0.36450439073993474\n",
            "epoch 1, batch 1, error 0.32072766453796014\n",
            "epoch 1, batch 2, error 0.27135627281546393\n",
            "epoch 1, batch 3, error 0.23412421359996932\n",
            "epoch 2, batch 0, error 0.19415249265334134\n",
            "epoch 2, batch 1, error 0.15387622348029295\n",
            "epoch 2, batch 2, error 0.11924613115965291\n",
            "epoch 2, batch 3, error 0.093424728874628\n",
            "epoch 3, batch 0, error 0.07030541526090427\n",
            "epoch 3, batch 1, error 0.048363703576040036\n",
            "epoch 3, batch 2, error 0.03405427010978443\n",
            "epoch 3, batch 3, error 0.024256309960299656\n",
            "epoch 4, batch 0, error 0.016553511241246256\n",
            "epoch 4, batch 1, error 0.010779016901442317\n",
            "epoch 4, batch 2, error 0.009880412707016204\n",
            "epoch 4, batch 3, error 0.008118561961771182\n",
            "epoch 5, batch 0, error 0.010489491823385816\n",
            "epoch 5, batch 1, error 0.012798937958780303\n",
            "epoch 5, batch 2, error 0.01405695823594514\n",
            "epoch 5, batch 3, error 0.01788373909308163\n",
            "epoch 6, batch 0, error 0.020490122599420135\n",
            "epoch 6, batch 1, error 0.0239581142198844\n",
            "epoch 6, batch 2, error 0.02468322378688914\n",
            "epoch 6, batch 3, error 0.02632489324818293\n",
            "epoch 7, batch 0, error 0.026967679871516565\n",
            "epoch 7, batch 1, error 0.029118999875427414\n",
            "epoch 7, batch 2, error 0.0295610177474061\n",
            "epoch 7, batch 3, error 0.026013846989410526\n",
            "epoch 8, batch 0, error 0.027929115178855334\n",
            "epoch 8, batch 1, error 0.02455434314946976\n",
            "epoch 8, batch 2, error 0.023047878765281082\n",
            "epoch 8, batch 3, error 0.023217968196759125\n",
            "epoch 9, batch 0, error 0.020683708195116234\n",
            "epoch 9, batch 1, error 0.017803890934240292\n",
            "epoch 9, batch 2, error 0.01648059091976658\n",
            "epoch 9, batch 3, error 0.01793056693983055\n",
            "epoch 10, batch 0, error 0.014053054146019544\n",
            "epoch 10, batch 1, error 0.013224758876140582\n",
            "epoch 10, batch 2, error 0.01165426866481578\n",
            "epoch 10, batch 3, error 0.011879785050525461\n",
            "epoch 11, batch 0, error 0.009908830797000919\n",
            "epoch 11, batch 1, error 0.011157911804410992\n",
            "epoch 11, batch 2, error 0.009723208604874176\n",
            "epoch 11, batch 3, error 0.007838206662726901\n",
            "epoch 12, batch 0, error 0.008740668410978938\n",
            "epoch 12, batch 1, error 0.008140525587878507\n",
            "epoch 12, batch 2, error 0.008486940630922675\n",
            "epoch 12, batch 3, error 0.010364472069799676\n",
            "epoch 13, batch 0, error 0.009329495701916702\n",
            "epoch 13, batch 1, error 0.008661090528628457\n",
            "epoch 13, batch 2, error 0.008934266638908077\n",
            "epoch 13, batch 3, error 0.009741163579430117\n",
            "epoch 14, batch 0, error 0.008341101373938476\n",
            "epoch 14, batch 1, error 0.011157806089786513\n",
            "epoch 14, batch 2, error 0.010010125308039271\n",
            "epoch 14, batch 3, error 0.008338124822561653\n",
            "epoch 15, batch 0, error 0.011014437271407659\n",
            "epoch 15, batch 1, error 0.007926456295638198\n",
            "epoch 15, batch 2, error 0.009933613801194518\n",
            "epoch 15, batch 3, error 0.009369603922484223\n",
            "epoch 16, batch 0, error 0.00863649507533856\n",
            "epoch 16, batch 1, error 0.009126391194894131\n",
            "epoch 16, batch 2, error 0.010356670784036319\n",
            "epoch 16, batch 3, error 0.00941701796012514\n",
            "epoch 17, batch 0, error 0.009122025375477637\n",
            "epoch 17, batch 1, error 0.009489966810673597\n",
            "epoch 17, batch 2, error 0.00847727002350029\n",
            "epoch 17, batch 3, error 0.00940831767207998\n",
            "epoch 18, batch 0, error 0.008220548761346114\n",
            "epoch 18, batch 1, error 0.009452050864339676\n",
            "epoch 18, batch 2, error 0.00859064490465858\n",
            "epoch 18, batch 3, error 0.009546307475205846\n",
            "epoch 19, batch 0, error 0.008958452294039907\n",
            "epoch 19, batch 1, error 0.008556717108344533\n",
            "epoch 19, batch 2, error 0.00952022819227058\n",
            "epoch 19, batch 3, error 0.008225741463663708\n"
          ],
          "name": "stdout"
        }
      ]
    },
    {
      "cell_type": "code",
      "metadata": {
        "colab": {
          "base_uri": "https://localhost:8080/",
          "height": 298
        },
        "id": "IY1u0SURLwIP",
        "outputId": "7707f322-363c-4122-b154-cfb3beb5da57"
      },
      "source": [
        "x1 = range(len(error_list))\n",
        "y1 = error_list\n",
        "\n",
        "plt.plot(x1,y1)\n",
        "plt.title(\"error graph\")"
      ],
      "execution_count": null,
      "outputs": [
        {
          "output_type": "execute_result",
          "data": {
            "text/plain": [
              "Text(0.5, 1.0, 'error graph')"
            ]
          },
          "metadata": {
            "tags": []
          },
          "execution_count": 22
        },
        {
          "output_type": "display_data",
          "data": {
            "image/png": "[encoded data removed]",
            "text/plain": [
              "<Figure size 432x288 with 1 Axes>"
            ]
          },
          "metadata": {
            "tags": [],
            "needs_background": "light"
          }
        }
      ]
    },
    {
      "cell_type": "code",
      "metadata": {
        "colab": {
          "base_uri": "https://localhost:8080/"
        },
        "id": "Y62CZf3GL6mY",
        "outputId": "5bdec9b7-c475-4cab-c4e4-0672f7e42f5d"
      },
      "source": [
        "print(\"train error :\",error(data_train,m,c))\n",
        "print(\"test error :\",error(data_test,m,c))"
      ],
      "execution_count": null,
      "outputs": [
        {
          "output_type": "stream",
          "text": [
            "train error : 0.008812483466383724\n",
            "test error : 0.009086332584863042\n"
          ],
          "name": "stdout"
        }
      ]
    },
    {
      "cell_type": "code",
      "metadata": {
        "colab": {
          "base_uri": "https://localhost:8080/"
        },
        "id": "DIPu-AORMBrO",
        "outputId": "067aa469-5bfe-4abb-e305-49821d2266e1"
      },
      "source": [
        "print(m,c)"
      ],
      "execution_count": null,
      "outputs": [
        {
          "output_type": "stream",
          "text": [
            "0.6303256685013262 0.18352200534200183\n"
          ],
          "name": "stdout"
        }
      ]
    },
    {
      "cell_type": "code",
      "metadata": {
        "colab": {
          "base_uri": "https://localhost:8080/",
          "height": 282
        },
        "id": "z5-qzBd4MLRT",
        "outputId": "e39cd4f1-83ef-4451-96c3-f32f502b14eb"
      },
      "source": [
        "plt.scatter(x,y)"
      ],
      "execution_count": null,
      "outputs": [
        {
          "output_type": "execute_result",
          "data": {
            "text/plain": [
              "<matplotlib.collections.PathCollection at 0x7fd84543a810>"
            ]
          },
          "metadata": {
            "tags": []
          },
          "execution_count": 25
        },
        {
          "output_type": "display_data",
          "data": {
            "image/png": "[encoded data removed]",
            "text/plain": [
              "<Figure size 432x288 with 1 Axes>"
            ]
          },
          "metadata": {
            "tags": [],
            "needs_background": "light"
          }
        }
      ]
    },
    {
      "cell_type": "code",
      "metadata": {
        "colab": {
          "base_uri": "https://localhost:8080/",
          "height": 298
        },
        "id": "gb8-H2F2MOYs",
        "outputId": "69d00e5a-3205-464c-962f-c7bbce08df4e"
      },
      "source": [
        "x1 = x\n",
        "y1 = [i*m+c for i in x1]\n",
        "plt.plot(x1,y1)\n",
        "plt.title(\"predicted line\")"
      ],
      "execution_count": null,
      "outputs": [
        {
          "output_type": "execute_result",
          "data": {
            "text/plain": [
              "Text(0.5, 1.0, 'predicted line')"
            ]
          },
          "metadata": {
            "tags": []
          },
          "execution_count": 26
        },
        {
          "output_type": "display_data",
          "data": {
            "image/png": "[encoded data removed]",
            "text/plain": [
              "<Figure size 432x288 with 1 Axes>"
            ]
          },
          "metadata": {
            "tags": [],
            "needs_background": "light"
          }
        }
      ]
    },
    {
      "cell_type": "code",
      "metadata": {
        "colab": {
          "base_uri": "https://localhost:8080/",
          "height": 282
        },
        "id": "cS7ClUOpMVn9",
        "outputId": "907f18e3-c3ae-42f1-c1b3-28e80fdd0b30"
      },
      "source": [
        "plt.scatter(x,y)\n",
        "x1 = x\n",
        "y1 = [i*m+c for i in x1]\n",
        "plt.plot(x1,y1)"
      ],
      "execution_count": null,
      "outputs": [
        {
          "output_type": "execute_result",
          "data": {
            "text/plain": [
              "[<matplotlib.lines.Line2D at 0x7fd844bc5e10>]"
            ]
          },
          "metadata": {
            "tags": []
          },
          "execution_count": 27
        },
        {
          "output_type": "display_data",
          "data": {
            "image/png": "[encoded data removed]",
            "text/plain": [
              "<Figure size 432x288 with 1 Axes>"
            ]
          },
          "metadata": {
            "tags": [],
            "needs_background": "light"
          }
        }
      ]
    },
    {
      "cell_type": "code",
      "metadata": {
        "id": "RJdf8FIAMc9q",
        "colab": {
          "base_uri": "https://localhost:8080/"
        },
        "outputId": "79553586-336b-45cf-eba9-b0707ba9a52e"
      },
      "source": [
        "input_load = float(input(\"enter yesterday load at this time : \"))\n",
        "\n",
        "max_value = 8841.669480\n",
        "min_value = 3377.919600\n",
        "\n",
        "input_load = (input_load - min_value)/(max_value-min_value)\n",
        "output_load = input_load*m+c\n",
        "\n",
        "output_load = output_load*(max_value-min_value)+min_value\n",
        "\n",
        "print(\"predicted load for this hour is : \",output_load)"
      ],
      "execution_count": null,
      "outputs": [
        {
          "output_type": "stream",
          "text": [
            "enter yesterday load at this time : 4000\n",
            "predicted load for this hour is :  4772.7511786562945\n"
          ],
          "name": "stdout"
        }
      ]
    }
  ]
}