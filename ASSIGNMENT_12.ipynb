{
  "nbformat": 4,
  "nbformat_minor": 0,
  "metadata": {
    "colab": {
      "name": "ASSIGNMENT-12",
      "provenance": []
    },
    "kernelspec": {
      "name": "python3",
      "display_name": "Python 3"
    },
    "language_info": {
      "name": "python"
    }
  },
  "cells": [
    {
      "cell_type": "code",
      "metadata": {
        "id": "m5Om_oxRy6on"
      },
      "source": [
        "import pandas as pd\n",
        "import numpy as np\n",
        "import math\n",
        "import random\n",
        "import matplotlib.pyplot as plt\n",
        "from random import shuffle\n",
        "from sklearn.preprocessing import minmax_scale\n",
        "from sklearn.model_selection import train_test_split"
      ],
      "execution_count": 1,
      "outputs": []
    },
    {
      "cell_type": "code",
      "metadata": {
        "colab": {
          "base_uri": "https://localhost:8080/",
          "height": 195
        },
        "id": "_iwdRmjazRfM",
        "outputId": "f48e0c50-0ca1-4745-8f74-3dde0d25187c"
      },
      "source": [
        "load_data = pd.read_excel(\"/content/Load Data in kW.xlsx\")\n",
        "load_data.head()"
      ],
      "execution_count": 2,
      "outputs": [
        {
          "output_type": "execute_result",
          "data": {
            "text/html": [
              "<div>\n",
              "<style scoped>\n",
              "    .dataframe tbody tr th:only-of-type {\n",
              "        vertical-align: middle;\n",
              "    }\n",
              "\n",
              "    .dataframe tbody tr th {\n",
              "        vertical-align: top;\n",
              "    }\n",
              "\n",
              "    .dataframe thead th {\n",
              "        text-align: right;\n",
              "    }\n",
              "</style>\n",
              "<table border=\"1\" class=\"dataframe\">\n",
              "  <thead>\n",
              "    <tr style=\"text-align: right;\">\n",
              "      <th></th>\n",
              "      <th>5551.82208</th>\n",
              "    </tr>\n",
              "  </thead>\n",
              "  <tbody>\n",
              "    <tr>\n",
              "      <th>0</th>\n",
              "      <td>4983.17184</td>\n",
              "    </tr>\n",
              "    <tr>\n",
              "      <th>1</th>\n",
              "      <td>4888.39680</td>\n",
              "    </tr>\n",
              "    <tr>\n",
              "      <th>2</th>\n",
              "      <td>5072.95872</td>\n",
              "    </tr>\n",
              "    <tr>\n",
              "      <th>3</th>\n",
              "      <td>5196.25980</td>\n",
              "    </tr>\n",
              "    <tr>\n",
              "      <th>4</th>\n",
              "      <td>5641.29720</td>\n",
              "    </tr>\n",
              "  </tbody>\n",
              "</table>\n",
              "</div>"
            ],
            "text/plain": [
              "   5551.82208\n",
              "0  4983.17184\n",
              "1  4888.39680\n",
              "2  5072.95872\n",
              "3  5196.25980\n",
              "4  5641.29720"
            ]
          },
          "metadata": {
            "tags": []
          },
          "execution_count": 2
        }
      ]
    },
    {
      "cell_type": "code",
      "metadata": {
        "colab": {
          "base_uri": "https://localhost:8080/",
          "height": 284
        },
        "id": "QcvAMFctzq6C",
        "outputId": "1054d061-be05-450c-f919-6f20dd0eb83e"
      },
      "source": [
        "load_data.describe()"
      ],
      "execution_count": 3,
      "outputs": [
        {
          "output_type": "execute_result",
          "data": {
            "text/html": [
              "<div>\n",
              "<style scoped>\n",
              "    .dataframe tbody tr th:only-of-type {\n",
              "        vertical-align: middle;\n",
              "    }\n",
              "\n",
              "    .dataframe tbody tr th {\n",
              "        vertical-align: top;\n",
              "    }\n",
              "\n",
              "    .dataframe thead th {\n",
              "        text-align: right;\n",
              "    }\n",
              "</style>\n",
              "<table border=\"1\" class=\"dataframe\">\n",
              "  <thead>\n",
              "    <tr style=\"text-align: right;\">\n",
              "      <th></th>\n",
              "      <th>5551.82208</th>\n",
              "    </tr>\n",
              "  </thead>\n",
              "  <tbody>\n",
              "    <tr>\n",
              "      <th>count</th>\n",
              "      <td>2183.000000</td>\n",
              "    </tr>\n",
              "    <tr>\n",
              "      <th>mean</th>\n",
              "      <td>6393.616060</td>\n",
              "    </tr>\n",
              "    <tr>\n",
              "      <th>std</th>\n",
              "      <td>17143.020064</td>\n",
              "    </tr>\n",
              "    <tr>\n",
              "      <th>min</th>\n",
              "      <td>3377.919600</td>\n",
              "    </tr>\n",
              "    <tr>\n",
              "      <th>25%</th>\n",
              "      <td>5257.520640</td>\n",
              "    </tr>\n",
              "    <tr>\n",
              "      <th>50%</th>\n",
              "      <td>5935.910400</td>\n",
              "    </tr>\n",
              "    <tr>\n",
              "      <th>75%</th>\n",
              "      <td>6738.692400</td>\n",
              "    </tr>\n",
              "    <tr>\n",
              "      <th>max</th>\n",
              "      <td>805444.430400</td>\n",
              "    </tr>\n",
              "  </tbody>\n",
              "</table>\n",
              "</div>"
            ],
            "text/plain": [
              "          5551.82208\n",
              "count    2183.000000\n",
              "mean     6393.616060\n",
              "std     17143.020064\n",
              "min      3377.919600\n",
              "25%      5257.520640\n",
              "50%      5935.910400\n",
              "75%      6738.692400\n",
              "max    805444.430400"
            ]
          },
          "metadata": {
            "tags": []
          },
          "execution_count": 3
        }
      ]
    },
    {
      "cell_type": "code",
      "metadata": {
        "colab": {
          "base_uri": "https://localhost:8080/"
        },
        "id": "GLN7POGez14F",
        "outputId": "95a7a203-d067-456c-d886-4d8f8ef16284"
      },
      "source": [
        "load_data.info()"
      ],
      "execution_count": 4,
      "outputs": [
        {
          "output_type": "stream",
          "text": [
            "<class 'pandas.core.frame.DataFrame'>\n",
            "RangeIndex: 2183 entries, 0 to 2182\n",
            "Data columns (total 1 columns):\n",
            " #   Column      Non-Null Count  Dtype  \n",
            "---  ------      --------------  -----  \n",
            " 0   5551.82208  2183 non-null   float64\n",
            "dtypes: float64(1)\n",
            "memory usage: 17.2 KB\n"
          ],
          "name": "stdout"
        }
      ]
    },
    {
      "cell_type": "code",
      "metadata": {
        "colab": {
          "base_uri": "https://localhost:8080/",
          "height": 399
        },
        "id": "NXR3iboBz81h",
        "outputId": "92c9bf30-2039-4856-fb80-af4d5ee3eac6"
      },
      "source": [
        "\n",
        "plt.boxplot(load_data.iloc[:,0])"
      ],
      "execution_count": 5,
      "outputs": [
        {
          "output_type": "execute_result",
          "data": {
            "text/plain": [
              "{'boxes': [<matplotlib.lines.Line2D at 0x7fa0cb62d8d0>],\n",
              " 'caps': [<matplotlib.lines.Line2D at 0x7fa0cb641f90>,\n",
              "  <matplotlib.lines.Line2D at 0x7fa0cb5c5b90>],\n",
              " 'fliers': [<matplotlib.lines.Line2D at 0x7fa0cb5dc990>],\n",
              " 'means': [],\n",
              " 'medians': [<matplotlib.lines.Line2D at 0x7fa0cb5dc450>],\n",
              " 'whiskers': [<matplotlib.lines.Line2D at 0x7fa0cb63be50>,\n",
              "  <matplotlib.lines.Line2D at 0x7fa0cb641a50>]}"
            ]
          },
          "metadata": {
            "tags": []
          },
          "execution_count": 5
        },
        {
          "output_type": "display_data",
          "data": {
            "image/png": "[encoded data removed]",
            "text/plain": [
              "<Figure size 432x288 with 1 Axes>"
            ]
          },
          "metadata": {
            "tags": [],
            "needs_background": "light"
          }
        }
      ]
    },
    {
      "cell_type": "code",
      "metadata": {
        "colab": {
          "base_uri": "https://localhost:8080/"
        },
        "id": "d8lP8VlG0OyZ",
        "outputId": "4898793a-b7f9-472a-e7d6-35722d093b0b"
      },
      "source": [
        "from scipy import stats\n",
        "\n",
        "z = np.abs(stats.zscore(load_data.iloc[:,0]))\n",
        "\n",
        "threshold = 3\n",
        "print(np.where(z > 3))"
      ],
      "execution_count": 6,
      "outputs": [
        {
          "output_type": "stream",
          "text": [
            "(array([928]),)\n"
          ],
          "name": "stdout"
        }
      ]
    },
    {
      "cell_type": "code",
      "metadata": {
        "id": "ewvFLG2T0T13"
      },
      "source": [
        "load_data.iloc[928,0] = load_data.iloc[927,0]"
      ],
      "execution_count": 7,
      "outputs": []
    },
    {
      "cell_type": "code",
      "metadata": {
        "colab": {
          "base_uri": "https://localhost:8080/",
          "height": 399
        },
        "id": "JZKEgtxh0av5",
        "outputId": "1debb955-d777-4b68-817b-2555301512ad"
      },
      "source": [
        "plt.boxplot(load_data.iloc[:,0])"
      ],
      "execution_count": 8,
      "outputs": [
        {
          "output_type": "execute_result",
          "data": {
            "text/plain": [
              "{'boxes': [<matplotlib.lines.Line2D at 0x7fa0cb03c510>],\n",
              " 'caps': [<matplotlib.lines.Line2D at 0x7fa0cb042510>,\n",
              "  <matplotlib.lines.Line2D at 0x7fa0cb042a50>],\n",
              " 'fliers': [<matplotlib.lines.Line2D at 0x7fa0cb049550>],\n",
              " 'means': [],\n",
              " 'medians': [<matplotlib.lines.Line2D at 0x7fa0cb042fd0>],\n",
              " 'whiskers': [<matplotlib.lines.Line2D at 0x7fa0cb03ca50>,\n",
              "  <matplotlib.lines.Line2D at 0x7fa0cb03cf90>]}"
            ]
          },
          "metadata": {
            "tags": []
          },
          "execution_count": 8
        },
        {
          "output_type": "display_data",
          "data": {
            "image/png": "[encoded data removed]",
            "text/plain": [
              "<Figure size 432x288 with 1 Axes>"
            ]
          },
          "metadata": {
            "tags": [],
            "needs_background": "light"
          }
        }
      ]
    },
    {
      "cell_type": "code",
      "metadata": {
        "id": "hD_ypbr60hWm"
      },
      "source": [
        "x = []\n",
        "y = []\n",
        "for i in range(len(load_data.iloc[:,0])-24):\n",
        "  x.append(load_data.iloc[i,0])\n",
        "  y.append(load_data.iloc[i+24,0])"
      ],
      "execution_count": 9,
      "outputs": []
    },
    {
      "cell_type": "code",
      "metadata": {
        "colab": {
          "base_uri": "https://localhost:8080/",
          "height": 282
        },
        "id": "zTPqb1W51RFm",
        "outputId": "11b0876c-1cad-4ffb-82ab-d5542e36398a"
      },
      "source": [
        "\n",
        "plt.scatter(x,y)"
      ],
      "execution_count": 10,
      "outputs": [
        {
          "output_type": "execute_result",
          "data": {
            "text/plain": [
              "<matplotlib.collections.PathCollection at 0x7fa0caff8610>"
            ]
          },
          "metadata": {
            "tags": []
          },
          "execution_count": 10
        },
        {
          "output_type": "display_data",
          "data": {
            "image/png": "[encoded data removed]",
            "text/plain": [
              "<Figure size 432x288 with 1 Axes>"
            ]
          },
          "metadata": {
            "tags": [],
            "needs_background": "light"
          }
        }
      ]
    },
    {
      "cell_type": "code",
      "metadata": {
        "id": "_OJjGBr11WGg"
      },
      "source": [
        "def error(d,m,c):\n",
        "  sum = 0\n",
        "  for i in range(len(d)):\n",
        "    sum = sum + math.pow(d[i][1]-m*d[i][0]-c,2)\n",
        "  return 0.5*sum/len(d)\n",
        "\n",
        "def gradm(d,m,c,v_m,v_c,momentum_coeff):\n",
        "  sum = 0\n",
        "  for i in range(len(d)):\n",
        "    sum = sum + (d[i][1]-(m+momentum_coeff*v_m)*d[i][0]-(c+momentum_coeff*v_c))*d[i][0]\n",
        "  return -1*sum/len(d)\n",
        "\n",
        "def gradc(d,m,c,v_m,v_c,momentum_coeff):\n",
        "  sum = 0\n",
        "  for i in range(len(d)):\n",
        "    sum = sum + (d[i][1]-(m+momentum_coeff*v_m)*d[i][0]-(c+momentum_coeff*v_c))\n",
        "  return -1*sum/len(d)"
      ],
      "execution_count": 11,
      "outputs": []
    },
    {
      "cell_type": "code",
      "metadata": {
        "id": "V4y-Lzlq1zho"
      },
      "source": [
        "learning_rate = 0.01\n",
        "epochs = 20\n",
        "\n",
        "m = 1\n",
        "c = 1\n",
        "\n",
        "v_m = 0\n",
        "v_c = 0\n",
        "momentum_coeff = 0.9\n",
        "\n",
        "batch_size = 500"
      ],
      "execution_count": 12,
      "outputs": []
    },
    {
      "cell_type": "code",
      "metadata": {
        "id": "eW6i7dHi151R"
      },
      "source": [
        "x = minmax_scale(x)\n",
        "y = minmax_scale(y)"
      ],
      "execution_count": 14,
      "outputs": []
    },
    {
      "cell_type": "code",
      "metadata": {
        "colab": {
          "base_uri": "https://localhost:8080/"
        },
        "id": "5Eas53BQ1_ei",
        "outputId": "9922eb17-8c7e-424c-da46-8ff31863e22a"
      },
      "source": [
        "data = []\n",
        "\n",
        "for i in range(len(x)):\n",
        "  data.append((x[i],y[i]))\n",
        "\n",
        "print(len(data))\n",
        "\n",
        "data_train,data_test = train_test_split(data,test_size=0.1)\n",
        "\n",
        "len(data_train)"
      ],
      "execution_count": 15,
      "outputs": [
        {
          "output_type": "stream",
          "text": [
            "2159\n"
          ],
          "name": "stdout"
        },
        {
          "output_type": "execute_result",
          "data": {
            "text/plain": [
              "1943"
            ]
          },
          "metadata": {
            "tags": []
          },
          "execution_count": 15
        }
      ]
    },
    {
      "cell_type": "code",
      "metadata": {
        "colab": {
          "base_uri": "https://localhost:8080/"
        },
        "id": "gavaJ8tS2F9h",
        "outputId": "42f0d6ab-4eaf-4868-ef15-8e1e6a6875fd"
      },
      "source": [
        "error_list = []\n",
        "number_of_batches = (len(data_train)//batch_size)\n",
        "for i in range(epochs):\n",
        "  for j in range(number_of_batches+1):\n",
        "    if j == number_of_batches:\n",
        "      d = data_train[j*batch_size:]\n",
        "    else:\n",
        "      d = data_train[j*batch_size:(j+1)*batch_size]\n",
        "\n",
        "    deltam = -1*learning_rate*gradm(d,m,c,v_m,v_c,momentum_coeff)\n",
        "    deltac = -1*learning_rate*gradc(d,m,c,v_m,v_c,momentum_coeff)\n",
        "\n",
        "    v_m = v_m*momentum_coeff + deltam\n",
        "    v_c = v_c*momentum_coeff + deltac\n",
        "\n",
        "    m = m + v_m\n",
        "    c = c + v_c\n",
        "\n",
        "    print(\"epoch {}, batch {}, error {}\".format(i,j,error(d,m,c)))\n",
        "    error_list.append(error(d,m,c))\n",
        "  random.shuffle(data_train)"
      ],
      "execution_count": 16,
      "outputs": [
        {
          "output_type": "stream",
          "text": [
            "epoch 0, batch 0, error 0.5016636458460132\n",
            "epoch 0, batch 1, error 0.47444380568399835\n",
            "epoch 0, batch 2, error 0.4483811397673332\n",
            "epoch 0, batch 3, error 0.40505685919683054\n",
            "epoch 1, batch 0, error 0.3698334204719353\n",
            "epoch 1, batch 1, error 0.3263914852242716\n",
            "epoch 1, batch 2, error 0.2789265899584431\n",
            "epoch 1, batch 3, error 0.23447879758415055\n",
            "epoch 2, batch 0, error 0.1995187414295745\n",
            "epoch 2, batch 1, error 0.16668087538903728\n",
            "epoch 2, batch 2, error 0.12791067054153518\n",
            "epoch 2, batch 3, error 0.0991923984122611\n",
            "epoch 3, batch 0, error 0.08113844120244533\n",
            "epoch 3, batch 1, error 0.05787342050778908\n",
            "epoch 3, batch 2, error 0.039447427689292505\n",
            "epoch 3, batch 3, error 0.030623981669598992\n",
            "epoch 4, batch 0, error 0.02152474005915318\n",
            "epoch 4, batch 1, error 0.016359103637731187\n",
            "epoch 4, batch 2, error 0.010420092017053911\n",
            "epoch 4, batch 3, error 0.008818518073739692\n",
            "epoch 5, batch 0, error 0.009249927165934702\n",
            "epoch 5, batch 1, error 0.010463620633414793\n",
            "epoch 5, batch 2, error 0.011473841070297261\n",
            "epoch 5, batch 3, error 0.010480949982280137\n",
            "epoch 6, batch 0, error 0.01478901325880675\n",
            "epoch 6, batch 1, error 0.017383465500349887\n",
            "epoch 6, batch 2, error 0.01644479720664981\n",
            "epoch 6, batch 3, error 0.01831513432708467\n",
            "epoch 7, batch 0, error 0.020194457565203258\n",
            "epoch 7, batch 1, error 0.019633775969899615\n",
            "epoch 7, batch 2, error 0.020994329650890424\n",
            "epoch 7, batch 3, error 0.02155768822867306\n",
            "epoch 8, batch 0, error 0.021062306203868213\n",
            "epoch 8, batch 1, error 0.01964733437144558\n",
            "epoch 8, batch 2, error 0.018129125129233457\n",
            "epoch 8, batch 3, error 0.019184000176416888\n",
            "epoch 9, batch 0, error 0.01655762526016823\n",
            "epoch 9, batch 1, error 0.01495275009486022\n",
            "epoch 9, batch 2, error 0.016195845052161338\n",
            "epoch 9, batch 3, error 0.015629091048067232\n",
            "epoch 10, batch 0, error 0.012360915129061853\n",
            "epoch 10, batch 1, error 0.011927020037302883\n",
            "epoch 10, batch 2, error 0.012965004617576634\n",
            "epoch 10, batch 3, error 0.01168886980547083\n",
            "epoch 11, batch 0, error 0.010656857060099346\n",
            "epoch 11, batch 1, error 0.009870551355655479\n",
            "epoch 11, batch 2, error 0.011082803858654247\n",
            "epoch 11, batch 3, error 0.008248009450910268\n",
            "epoch 12, batch 0, error 0.009980495358657825\n",
            "epoch 12, batch 1, error 0.00839756789243471\n",
            "epoch 12, batch 2, error 0.009148261074291626\n",
            "epoch 12, batch 3, error 0.008939257753666814\n",
            "epoch 13, batch 0, error 0.008860445523905174\n",
            "epoch 13, batch 1, error 0.009469995317603265\n",
            "epoch 13, batch 2, error 0.009036088563550997\n",
            "epoch 13, batch 3, error 0.008946921441613133\n",
            "epoch 14, batch 0, error 0.00968637404869968\n",
            "epoch 14, batch 1, error 0.008082546040645053\n",
            "epoch 14, batch 2, error 0.009508203235190223\n",
            "epoch 14, batch 3, error 0.009737264987458083\n",
            "epoch 15, batch 0, error 0.009418949484287767\n",
            "epoch 15, batch 1, error 0.008967903490040416\n",
            "epoch 15, batch 2, error 0.009475843417423474\n",
            "epoch 15, batch 3, error 0.009404733948857422\n",
            "epoch 16, batch 0, error 0.010594204242727267\n",
            "epoch 16, batch 1, error 0.008599049014620129\n",
            "epoch 16, batch 2, error 0.009830282114632166\n",
            "epoch 16, batch 3, error 0.007915161332789272\n",
            "epoch 17, batch 0, error 0.010350744674021597\n",
            "epoch 17, batch 1, error 0.009193120509742655\n",
            "epoch 17, batch 2, error 0.008743548662463277\n",
            "epoch 17, batch 3, error 0.008325193491286034\n",
            "epoch 18, batch 0, error 0.008814890199722637\n",
            "epoch 18, batch 1, error 0.009158624966802474\n",
            "epoch 18, batch 2, error 0.009989872969862661\n",
            "epoch 18, batch 3, error 0.008262393047958982\n",
            "epoch 19, batch 0, error 0.009106924512838541\n",
            "epoch 19, batch 1, error 0.009940310470050668\n",
            "epoch 19, batch 2, error 0.008282130459538963\n",
            "epoch 19, batch 3, error 0.008748915283458792\n"
          ],
          "name": "stdout"
        }
      ]
    },
    {
      "cell_type": "code",
      "metadata": {
        "colab": {
          "base_uri": "https://localhost:8080/",
          "height": 298
        },
        "id": "qvCuxf9j2Sy6",
        "outputId": "c4c72c9f-8a2e-4e13-c6f6-bb777ad4b38d"
      },
      "source": [
        "x1 = range(len(error_list))\n",
        "y1 = error_list\n",
        "\n",
        "plt.plot(x1,y1)\n",
        "plt.title(\"error graph\")"
      ],
      "execution_count": 17,
      "outputs": [
        {
          "output_type": "execute_result",
          "data": {
            "text/plain": [
              "Text(0.5, 1.0, 'error graph')"
            ]
          },
          "metadata": {
            "tags": []
          },
          "execution_count": 17
        },
        {
          "output_type": "display_data",
          "data": {
            "image/png": "[encoded data removed]",
            "text/plain": [
              "<Figure size 432x288 with 1 Axes>"
            ]
          },
          "metadata": {
            "tags": [],
            "needs_background": "light"
          }
        }
      ]
    },
    {
      "cell_type": "code",
      "metadata": {
        "colab": {
          "base_uri": "https://localhost:8080/"
        },
        "id": "8MRS9Ypg2VTv",
        "outputId": "f461ea1d-d2d9-4b89-93b9-de9d4b49bb2d"
      },
      "source": [
        "print(\"train error :\",error(data_train,m,c))\n",
        "print(\"test error :\",error(data_test,m,c))"
      ],
      "execution_count": 18,
      "outputs": [
        {
          "output_type": "stream",
          "text": [
            "train error : 0.009011683609753622\n",
            "test error : 0.007432506910311381\n"
          ],
          "name": "stdout"
        }
      ]
    },
    {
      "cell_type": "code",
      "metadata": {
        "colab": {
          "base_uri": "https://localhost:8080/"
        },
        "id": "ABjQb46R2ldn",
        "outputId": "1926db11-e273-429c-a9d7-b1ba0434185c"
      },
      "source": [
        "print(m,c)"
      ],
      "execution_count": 19,
      "outputs": [
        {
          "output_type": "stream",
          "text": [
            "0.62767040649893 0.185242239460536\n"
          ],
          "name": "stdout"
        }
      ]
    },
    {
      "cell_type": "code",
      "metadata": {
        "colab": {
          "base_uri": "https://localhost:8080/",
          "height": 282
        },
        "id": "0JQJjXZK2oHu",
        "outputId": "a6486edd-6a36-4b85-a1c9-b6c6d7613f9d"
      },
      "source": [
        "plt.scatter(x,y)"
      ],
      "execution_count": 20,
      "outputs": [
        {
          "output_type": "execute_result",
          "data": {
            "text/plain": [
              "<matplotlib.collections.PathCollection at 0x7fa0cae78710>"
            ]
          },
          "metadata": {
            "tags": []
          },
          "execution_count": 20
        },
        {
          "output_type": "display_data",
          "data": {
            "image/png": "[encoded data removed]",
            "text/plain": [
              "<Figure size 432x288 with 1 Axes>"
            ]
          },
          "metadata": {
            "tags": [],
            "needs_background": "light"
          }
        }
      ]
    },
    {
      "cell_type": "code",
      "metadata": {
        "colab": {
          "base_uri": "https://localhost:8080/",
          "height": 298
        },
        "id": "gIvBybgx2u9t",
        "outputId": "fe41b19c-ce97-4f42-9fdf-eeea7bb47764"
      },
      "source": [
        "x1 = x\n",
        "y1 = [i*m+c for i in x1]\n",
        "plt.plot(x1,y1)\n",
        "plt.title(\"predicted line\")"
      ],
      "execution_count": 21,
      "outputs": [
        {
          "output_type": "execute_result",
          "data": {
            "text/plain": [
              "Text(0.5, 1.0, 'predicted line')"
            ]
          },
          "metadata": {
            "tags": []
          },
          "execution_count": 21
        },
        {
          "output_type": "display_data",
          "data": {
            "image/png": "[encoded data removed]",
            "text/plain": [
              "<Figure size 432x288 with 1 Axes>"
            ]
          },
          "metadata": {
            "tags": [],
            "needs_background": "light"
          }
        }
      ]
    },
    {
      "cell_type": "code",
      "metadata": {
        "colab": {
          "base_uri": "https://localhost:8080/",
          "height": 282
        },
        "id": "xrW9sn6_22z0",
        "outputId": "ebaca0d6-9fa7-4211-8b78-f869031234c6"
      },
      "source": [
        "plt.scatter(x,y)\n",
        "x1 = x\n",
        "y1 = [i*m+c for i in x1]\n",
        "plt.plot(x1,y1)"
      ],
      "execution_count": 22,
      "outputs": [
        {
          "output_type": "execute_result",
          "data": {
            "text/plain": [
              "[<matplotlib.lines.Line2D at 0x7fa0cb683c10>]"
            ]
          },
          "metadata": {
            "tags": []
          },
          "execution_count": 22
        },
        {
          "output_type": "display_data",
          "data": {
            "image/png": "[encoded data removed]",
            "text/plain": [
              "<Figure size 432x288 with 1 Axes>"
            ]
          },
          "metadata": {
            "tags": [],
            "needs_background": "light"
          }
        }
      ]
    },
    {
      "cell_type": "code",
      "metadata": {
        "colab": {
          "base_uri": "https://localhost:8080/"
        },
        "id": "273vhvNJ3ApC",
        "outputId": "5cde63eb-a2eb-4e64-d4ef-804fcf4025b2"
      },
      "source": [
        "input_load = float(input(\"enter yesterday load at this time : \"))\n",
        "\n",
        "max_value = 8841.669480\n",
        "min_value = 3377.919600\n",
        "\n",
        "input_load = (input_load - min_value)/(max_value-min_value)\n",
        "output_load = input_load*m+c\n",
        "\n",
        "output_load = output_load*(max_value-min_value)+min_value\n",
        "\n",
        "print(\"predicted load for this hour is : \",output_load)"
      ],
      "execution_count": 23,
      "outputs": [
        {
          "output_type": "stream",
          "text": [
            "enter yesterday load at this time : 4000\n",
            "predicted load for this hour is :  4780.498321166452\n"
          ],
          "name": "stdout"
        }
      ]
    }
  ]
}