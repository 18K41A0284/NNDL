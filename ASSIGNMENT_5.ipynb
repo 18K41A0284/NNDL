{
  "nbformat": 4,
  "nbformat_minor": 0,
  "metadata": {
    "colab": {
      "name": "ASSIGNMENT-5",
      "provenance": []
    },
    "kernelspec": {
      "name": "python3",
      "display_name": "Python 3"
    },
    "language_info": {
      "name": "python"
    }
  },
  "cells": [
    {
      "cell_type": "code",
      "metadata": {
        "id": "qW4vIuiWk-6U"
      },
      "source": [
        "import math"
      ],
      "execution_count": 2,
      "outputs": []
    },
    {
      "cell_type": "code",
      "metadata": {
        "id": "JNfyoodnlW-8"
      },
      "source": [
        "def gradc(d,m,c):\n",
        "  sum = 0\n",
        "  for i in range(len(d)):\n",
        "    sum = sum + (d[i][1]-m*d[i][0]-c)\n",
        "  return -1*sum/len(d)"
      ],
      "execution_count": 3,
      "outputs": []
    },
    {
      "cell_type": "code",
      "metadata": {
        "id": "NW9s9dFNl1K8"
      },
      "source": [
        "def gradm(d,m,c):\n",
        "  sum = 0\n",
        "  for i in range(len(d)):\n",
        "    sum = sum + (d[i][1]-m*d[i][0]-c)*d[i][0]\n",
        "  return -1*sum/len(d)"
      ],
      "execution_count": 4,
      "outputs": []
    },
    {
      "cell_type": "code",
      "metadata": {
        "id": "asAZtv8il_m-"
      },
      "source": [
        "def error(d,m,c):\n",
        "  sum = 0\n",
        "  for i in range(len(d)):\n",
        "    sum = sum + math.pow(d[i][1]-m*d[i][0]-c,2)\n",
        "  return 0.5*sum/len(d)"
      ],
      "execution_count": 5,
      "outputs": []
    },
    {
      "cell_type": "code",
      "metadata": {
        "colab": {
          "base_uri": "https://localhost:8080/"
        },
        "id": "5JPhGxkSmF9f",
        "outputId": "75591f22-2607-4d69-b7ed-ee8470245291"
      },
      "source": [
        "x = [0.2,0.4,0.6,0.8,1.0,1.2]\n",
        "y = [3.4,3.8,4.2,4.6,5.0,5.4]\n",
        "print(\"sample x values : \", x)\n",
        "print(\"sample y values : \", y)\n",
        "\n",
        "data = [(x[i],y[i]) for i in range(0,6)]\n",
        "\n",
        "m = 1\n",
        "c = -1\n",
        "print(\"initial m value : \",m)\n",
        "print(\"initial c value : \",c)\n",
        "\n",
        "learning_rate = 0.01\n",
        "print(\"learning rate : \",learning_rate)\n",
        "\n",
        "batch_size = 2\n",
        "print(\"batch size : \",batch_size)\n",
        "\n",
        "print(\"\\nBatch 1\")\n",
        "gradient_m = gradm(data[:2],m,c)\n",
        "print(\"gradient of m for batch 1 : \",gradient_m)\n",
        "gradient_c = gradc(data[:2],m,c)\n",
        "print(\"gradient of c for batch 1 : \",gradient_c)\n",
        "deltam = -1*learning_rate*gradient_m\n",
        "deltac = -1*learning_rate*gradient_c\n",
        "print(\"delta m : \",deltam)\n",
        "print(\"delta c : \",deltac)\n",
        "m = m + deltam\n",
        "print(\"m : \",m)\n",
        "c = c + deltac\n",
        "print(\"c : \",c)\n",
        "\n",
        "print(\"\\nBatch 2\")\n",
        "gradient_m = gradm(data[2:4],m,c)\n",
        "print(\"gradient of m for batch 2 : \",gradient_m)\n",
        "gradient_c = gradc(data[2:4],m,c)\n",
        "print(\"gradient of c for batch 2 : \",gradient_c)\n",
        "deltam = -1*learning_rate*gradient_m\n",
        "deltac = -1*learning_rate*gradient_c\n",
        "print(\"delta m : \",deltam)\n",
        "print(\"delta c : \",deltac)\n",
        "m = m + deltam\n",
        "print(\"m : \",m)\n",
        "c = c + deltac\n",
        "print(\"c : \",c)"
      ],
      "execution_count": 6,
      "outputs": [
        {
          "output_type": "stream",
          "text": [
            "sample x values :  [0.2, 0.4, 0.6, 0.8, 1.0, 1.2]\n",
            "sample y values :  [3.4, 3.8, 4.2, 4.6, 5.0, 5.4]\n",
            "initial m value :  1\n",
            "initial c value :  -1\n",
            "learning rate :  0.01\n",
            "batch size :  2\n",
            "\n",
            "Batch 1\n",
            "gradient of m for batch 1 :  -1.3\n",
            "gradient of c for batch 1 :  -4.3\n",
            "delta m :  0.013000000000000001\n",
            "delta c :  0.043\n",
            "m :  1.013\n",
            "c :  -0.957\n",
            "\n",
            "Batch 2\n",
            "gradient of m for batch 2 :  -3.2634\n",
            "gradient of c for batch 2 :  -4.6479\n",
            "delta m :  0.032633999999999996\n",
            "delta c :  0.046479\n",
            "m :  1.045634\n",
            "c :  -0.9105209999999999\n"
          ],
          "name": "stdout"
        }
      ]
    },
    {
      "cell_type": "code",
      "metadata": {
        "id": "bDc35lCsmm9X"
      },
      "source": [
        "import math\n",
        "import random\n",
        "import matplotlib.pyplot as plt"
      ],
      "execution_count": 11,
      "outputs": []
    },
    {
      "cell_type": "code",
      "metadata": {
        "id": "FIhDyadJmyWO"
      },
      "source": [
        "number_of_samples = 6\n",
        "learning_rate = 0.1\n",
        "epochs = 100\n",
        "batch_size = 4\n",
        "m = -1\n",
        "c = 1\n",
        "number_of_batches = number_of_samples//batch_size"
      ],
      "execution_count": 12,
      "outputs": []
    },
    {
      "cell_type": "code",
      "metadata": {
        "colab": {
          "base_uri": "https://localhost:8080/"
        },
        "id": "W785BHc_m4FR",
        "outputId": "923884ac-b9d9-4172-ddb1-ec00a6f470f6"
      },
      "source": [
        "x = [0.2,0.4,0.6,0.8,1.0,1.2]\n",
        "y = [3.4,3.8,4.2,4.6,5.0,5.4]\n",
        "\n",
        "data = list()\n",
        "\n",
        "for i in range(6):\n",
        "  data.append((x[i],y[i]))\n",
        "\n",
        "print(data)"
      ],
      "execution_count": 13,
      "outputs": [
        {
          "output_type": "stream",
          "text": [
            "[(0.2, 3.4), (0.4, 3.8), (0.6, 4.2), (0.8, 4.6), (1.0, 5.0), (1.2, 5.4)]\n"
          ],
          "name": "stdout"
        }
      ]
    },
    {
      "cell_type": "code",
      "metadata": {
        "id": "lu9a7xeXnCt1"
      },
      "source": [
        "error_list = []\n",
        "for i in range(epochs):\n",
        "  for j in range(number_of_batches+1):\n",
        "    if j == number_of_batches:\n",
        "      d = data[j*batch_size:]\n",
        "    else:\n",
        "      d = data[j*batch_size:(j+1)*batch_size]\n",
        "    deltam = -1*learning_rate*gradm(d,m,c)\n",
        "    deltac = -1*learning_rate*gradc(d,m,c)\n",
        "    m = m + deltam\n",
        "    c = c + deltac\n",
        "    error_list.append(error(d,m,c))\n",
        "  random.shuffle(data)"
      ],
      "execution_count": 14,
      "outputs": []
    },
    {
      "cell_type": "code",
      "metadata": {
        "colab": {
          "base_uri": "https://localhost:8080/",
          "height": 346
        },
        "id": "ZKnJ-PeqnaqK",
        "outputId": "8601de90-2963-4219-d7df-dd3e0b34daeb"
      },
      "source": [
        "\n",
        "x1 = range(epochs*(number_of_batches+1))\n",
        "y1 = error_list\n",
        "\n",
        "print(len(x1))\n",
        "print(len(y1))\n",
        "plt.plot(x1,y1)\n",
        "plt.xlabel(\"number of updations\")\n",
        "plt.ylabel(\"error\")\n",
        "plt.title(\"error graph in case of Mini Batch GD\")\n"
      ],
      "execution_count": 15,
      "outputs": [
        {
          "output_type": "stream",
          "text": [
            "200\n",
            "200\n"
          ],
          "name": "stdout"
        },
        {
          "output_type": "execute_result",
          "data": {
            "text/plain": [
              "Text(0.5, 1.0, 'error graph in case of Mini Batch GD')"
            ]
          },
          "metadata": {
            "tags": []
          },
          "execution_count": 15
        },
        {
          "output_type": "display_data",
          "data": {
            "image/png": "[encoded data removed]",
            "text/plain": [
              "<Figure size 432x288 with 1 Axes>"
            ]
          },
          "metadata": {
            "tags": [],
            "needs_background": "light"
          }
        }
      ]
    },
    {
      "cell_type": "code",
      "metadata": {
        "colab": {
          "base_uri": "https://localhost:8080/",
          "height": 298
        },
        "id": "BNZj96vjn5PO",
        "outputId": "17f39d5e-aef6-41ad-94e1-30bc28c627db"
      },
      "source": [
        "x2 = range(0,3)\n",
        "y2 = [m*i+c for i in x2]\n",
        "\n",
        "plt.plot(x2,y2)\n",
        "plt.scatter(x,y)\n",
        "plt.title(\"line which is generated after training\")"
      ],
      "execution_count": 16,
      "outputs": [
        {
          "output_type": "execute_result",
          "data": {
            "text/plain": [
              "Text(0.5, 1.0, 'line which is generated after training')"
            ]
          },
          "metadata": {
            "tags": []
          },
          "execution_count": 16
        },
        {
          "output_type": "display_data",
          "data": {
            "image/png": "[encoded data removed]",
            "text/plain": [
              "<Figure size 432x288 with 1 Axes>"
            ]
          },
          "metadata": {
            "tags": [],
            "needs_background": "light"
          }
        }
      ]
    },
    {
      "cell_type": "code",
      "metadata": {
        "colab": {
          "base_uri": "https://localhost:8080/"
        },
        "id": "vTwbGHufoL-S",
        "outputId": "92778d5c-e6a7-47e8-dbb3-0ba013e6c858"
      },
      "source": [
        "print(\"optimal value of m, c :\",m,c)"
      ],
      "execution_count": 17,
      "outputs": [
        {
          "output_type": "stream",
          "text": [
            "optimal value of m, c : 1.8129917834466072 3.145636074953404\n"
          ],
          "name": "stdout"
        }
      ]
    }
  ]
}